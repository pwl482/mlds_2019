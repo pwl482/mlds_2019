{
  "nbformat": 4,
  "nbformat_minor": 0,
  "metadata": {
    "colab": {
      "name": "ML_Project_Week5.ipynb",
      "provenance": [],
      "collapsed_sections": [],
      "toc_visible": true
    },
    "kernelspec": {
      "name": "python3",
      "display_name": "Python 3"
    }
  },
  "cells": [
    {
      "cell_type": "markdown",
      "metadata": {
        "id": "Z-nn1lXBXz6Y",
        "colab_type": "text"
      },
      "source": [
        "# Machine Learning Week 5 Assignment\n",
        "by Eva Aßmann, Paul Vogler"
      ]
    },
    {
      "cell_type": "markdown",
      "metadata": {
        "id": "78wxI8R6YbtI",
        "colab_type": "text"
      },
      "source": [
        "Dataset used: Heart Disease https://archive.ics.uci.edu/ml/datasets/Heart+Disease"
      ]
    },
    {
      "cell_type": "code",
      "metadata": {
        "id": "vx7GniYOXvRs",
        "colab_type": "code",
        "colab": {}
      },
      "source": [
        "import numpy as np \n",
        "import pandas as pd \n",
        "import matplotlib.pyplot as plt"
      ],
      "execution_count": 0,
      "outputs": []
    },
    {
      "cell_type": "code",
      "metadata": {
        "id": "oCWaiFn1WbaQ",
        "colab_type": "code",
        "colab": {
          "resources": {
            "http://localhost:8080/nbextensions/google.colab/files.js": {
              "data": "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",
              "ok": true,
              "headers": [
                [
                  "content-type",
                  "application/javascript"
                ]
              ],
              "status": 200,
              "status_text": ""
            }
          },
          "base_uri": "https://localhost:8080/",
          "height": 71
        },
        "outputId": "38f67225-7a6b-4603-83eb-4a24038b811e"
      },
      "source": [
        "from google.colab import files\n",
        "uploaded = files.upload()"
      ],
      "execution_count": 3,
      "outputs": [
        {
          "output_type": "display_data",
          "data": {
            "text/html": [
              "\n",
              "     <input type=\"file\" id=\"files-23cc694b-259f-4f22-84e1-5ecd5f260393\" name=\"files[]\" multiple disabled />\n",
              "     <output id=\"result-23cc694b-259f-4f22-84e1-5ecd5f260393\">\n",
              "      Upload widget is only available when the cell has been executed in the\n",
              "      current browser session. Please rerun this cell to enable.\n",
              "      </output>\n",
              "      <script src=\"/nbextensions/google.colab/files.js\"></script> "
            ],
            "text/plain": [
              "<IPython.core.display.HTML object>"
            ]
          },
          "metadata": {
            "tags": []
          }
        },
        {
          "output_type": "stream",
          "text": [
            "Saving processed.cleveland.data to processed.cleveland.data\n"
          ],
          "name": "stdout"
        }
      ]
    },
    {
      "cell_type": "code",
      "metadata": {
        "id": "eNgTgNiJYuVa",
        "colab_type": "code",
        "outputId": "177235bb-2416-4c7e-ce81-21d9c7e6d408",
        "colab": {
          "base_uri": "https://localhost:8080/",
          "height": 204
        }
      },
      "source": [
        "df = pd.read_csv(\"processed.cleveland.data\", sep=\",\", \n",
        "                  names=[\"age\", \"sex\", \"cp\", \"trestbps\", \"chol\", \"fbs\", \"restecg\",\n",
        "                         \"thalach\", \"exang\", \"oldpeak\", \"slope\", \"ca\", \"thal\",\n",
        "                         \"num\"], na_values=\"?\") \n",
        "df.head() "
      ],
      "execution_count": 4,
      "outputs": [
        {
          "output_type": "execute_result",
          "data": {
            "text/html": [
              "<div>\n",
              "<style scoped>\n",
              "    .dataframe tbody tr th:only-of-type {\n",
              "        vertical-align: middle;\n",
              "    }\n",
              "\n",
              "    .dataframe tbody tr th {\n",
              "        vertical-align: top;\n",
              "    }\n",
              "\n",
              "    .dataframe thead th {\n",
              "        text-align: right;\n",
              "    }\n",
              "</style>\n",
              "<table border=\"1\" class=\"dataframe\">\n",
              "  <thead>\n",
              "    <tr style=\"text-align: right;\">\n",
              "      <th></th>\n",
              "      <th>age</th>\n",
              "      <th>sex</th>\n",
              "      <th>cp</th>\n",
              "      <th>trestbps</th>\n",
              "      <th>chol</th>\n",
              "      <th>fbs</th>\n",
              "      <th>restecg</th>\n",
              "      <th>thalach</th>\n",
              "      <th>exang</th>\n",
              "      <th>oldpeak</th>\n",
              "      <th>slope</th>\n",
              "      <th>ca</th>\n",
              "      <th>thal</th>\n",
              "      <th>num</th>\n",
              "    </tr>\n",
              "  </thead>\n",
              "  <tbody>\n",
              "    <tr>\n",
              "      <th>0</th>\n",
              "      <td>63.0</td>\n",
              "      <td>1.0</td>\n",
              "      <td>1.0</td>\n",
              "      <td>145.0</td>\n",
              "      <td>233.0</td>\n",
              "      <td>1.0</td>\n",
              "      <td>2.0</td>\n",
              "      <td>150.0</td>\n",
              "      <td>0.0</td>\n",
              "      <td>2.3</td>\n",
              "      <td>3.0</td>\n",
              "      <td>0.0</td>\n",
              "      <td>6.0</td>\n",
              "      <td>0</td>\n",
              "    </tr>\n",
              "    <tr>\n",
              "      <th>1</th>\n",
              "      <td>67.0</td>\n",
              "      <td>1.0</td>\n",
              "      <td>4.0</td>\n",
              "      <td>160.0</td>\n",
              "      <td>286.0</td>\n",
              "      <td>0.0</td>\n",
              "      <td>2.0</td>\n",
              "      <td>108.0</td>\n",
              "      <td>1.0</td>\n",
              "      <td>1.5</td>\n",
              "      <td>2.0</td>\n",
              "      <td>3.0</td>\n",
              "      <td>3.0</td>\n",
              "      <td>2</td>\n",
              "    </tr>\n",
              "    <tr>\n",
              "      <th>2</th>\n",
              "      <td>67.0</td>\n",
              "      <td>1.0</td>\n",
              "      <td>4.0</td>\n",
              "      <td>120.0</td>\n",
              "      <td>229.0</td>\n",
              "      <td>0.0</td>\n",
              "      <td>2.0</td>\n",
              "      <td>129.0</td>\n",
              "      <td>1.0</td>\n",
              "      <td>2.6</td>\n",
              "      <td>2.0</td>\n",
              "      <td>2.0</td>\n",
              "      <td>7.0</td>\n",
              "      <td>1</td>\n",
              "    </tr>\n",
              "    <tr>\n",
              "      <th>3</th>\n",
              "      <td>37.0</td>\n",
              "      <td>1.0</td>\n",
              "      <td>3.0</td>\n",
              "      <td>130.0</td>\n",
              "      <td>250.0</td>\n",
              "      <td>0.0</td>\n",
              "      <td>0.0</td>\n",
              "      <td>187.0</td>\n",
              "      <td>0.0</td>\n",
              "      <td>3.5</td>\n",
              "      <td>3.0</td>\n",
              "      <td>0.0</td>\n",
              "      <td>3.0</td>\n",
              "      <td>0</td>\n",
              "    </tr>\n",
              "    <tr>\n",
              "      <th>4</th>\n",
              "      <td>41.0</td>\n",
              "      <td>0.0</td>\n",
              "      <td>2.0</td>\n",
              "      <td>130.0</td>\n",
              "      <td>204.0</td>\n",
              "      <td>0.0</td>\n",
              "      <td>2.0</td>\n",
              "      <td>172.0</td>\n",
              "      <td>0.0</td>\n",
              "      <td>1.4</td>\n",
              "      <td>1.0</td>\n",
              "      <td>0.0</td>\n",
              "      <td>3.0</td>\n",
              "      <td>0</td>\n",
              "    </tr>\n",
              "  </tbody>\n",
              "</table>\n",
              "</div>"
            ],
            "text/plain": [
              "    age  sex   cp  trestbps   chol  fbs  ...  exang  oldpeak  slope   ca  thal  num\n",
              "0  63.0  1.0  1.0     145.0  233.0  1.0  ...    0.0      2.3    3.0  0.0   6.0    0\n",
              "1  67.0  1.0  4.0     160.0  286.0  0.0  ...    1.0      1.5    2.0  3.0   3.0    2\n",
              "2  67.0  1.0  4.0     120.0  229.0  0.0  ...    1.0      2.6    2.0  2.0   7.0    1\n",
              "3  37.0  1.0  3.0     130.0  250.0  0.0  ...    0.0      3.5    3.0  0.0   3.0    0\n",
              "4  41.0  0.0  2.0     130.0  204.0  0.0  ...    0.0      1.4    1.0  0.0   3.0    0\n",
              "\n",
              "[5 rows x 14 columns]"
            ]
          },
          "metadata": {
            "tags": []
          },
          "execution_count": 4
        }
      ]
    },
    {
      "cell_type": "markdown",
      "metadata": {
        "id": "35vPdnnibH04",
        "colab_type": "text"
      },
      "source": [
        "# Preprocessing"
      ]
    },
    {
      "cell_type": "code",
      "metadata": {
        "id": "MDhx-WKsZx3D",
        "colab_type": "code",
        "outputId": "6a77fb88-6950-44fa-846c-af42a641e4bf",
        "colab": {
          "base_uri": "https://localhost:8080/",
          "height": 340
        }
      },
      "source": [
        "df.info()"
      ],
      "execution_count": 5,
      "outputs": [
        {
          "output_type": "stream",
          "text": [
            "<class 'pandas.core.frame.DataFrame'>\n",
            "RangeIndex: 303 entries, 0 to 302\n",
            "Data columns (total 14 columns):\n",
            "age         303 non-null float64\n",
            "sex         303 non-null float64\n",
            "cp          303 non-null float64\n",
            "trestbps    303 non-null float64\n",
            "chol        303 non-null float64\n",
            "fbs         303 non-null float64\n",
            "restecg     303 non-null float64\n",
            "thalach     303 non-null float64\n",
            "exang       303 non-null float64\n",
            "oldpeak     303 non-null float64\n",
            "slope       303 non-null float64\n",
            "ca          299 non-null float64\n",
            "thal        301 non-null float64\n",
            "num         303 non-null int64\n",
            "dtypes: float64(13), int64(1)\n",
            "memory usage: 33.3 KB\n"
          ],
          "name": "stdout"
        }
      ]
    },
    {
      "cell_type": "markdown",
      "metadata": {
        "id": "HhW1OwMBZ_KF",
        "colab_type": "text"
      },
      "source": [
        "**Handle the 6 nan entries: 4x nan in ca column and 2x nan in thal column**<br>delete these from the table"
      ]
    },
    {
      "cell_type": "code",
      "metadata": {
        "id": "x_oy4zVxaOZP",
        "colab_type": "code",
        "outputId": "28e3f42c-263a-475c-ea03-fc8cfaf5f447",
        "colab": {
          "base_uri": "https://localhost:8080/",
          "height": 34
        }
      },
      "source": [
        "df.dropna(inplace=True)\n",
        "df.isnull().values.any()"
      ],
      "execution_count": 6,
      "outputs": [
        {
          "output_type": "execute_result",
          "data": {
            "text/plain": [
              "False"
            ]
          },
          "metadata": {
            "tags": []
          },
          "execution_count": 6
        }
      ]
    },
    {
      "cell_type": "markdown",
      "metadata": {
        "id": "VRIkVZZzaXQR",
        "colab_type": "text"
      },
      "source": [
        "__Now check if value range, type and fromat correspond to data description for all categories:__\n",
        "- age: in years\n",
        "- sex: (1 = male; 0 = female)\n",
        "- cp: chest pain type \n",
        "    - Value 1: typical angina\n",
        "    - Value 2: atypical angina\n",
        "    - Value 3: non-anginal pain\n",
        "    - Value 4: asymptomatic)\n",
        "- trestbps: resting blood pressure (in mm Hg on admission to the hospital)\n",
        "- chol: serum cholestoral in mg/dl\n",
        "- fbs: (fasting blood sugar > 120 mg/dl) (1 = true; 0 = false)\n",
        "- restecg: resting electrocardiographic results\n",
        "    - Value 0: normal\n",
        "    - Value 1: having ST-T wave abnormality (T wave inversions and/or ST elevation or depression of > 0.05 mV)\n",
        "    - Value 2: showing probable or definite left ventricular hypertrophy by Estes' criteria 20 ekgmo (month of exercise ECG reading)\n",
        "- thalach: maximum heart rate achieved\n",
        "- exang: exercise induced angina (1 = yes; 0 = no)\n",
        "- oldpeak: ST depression induced by exercise relative to rest\n",
        "- slope: the slope of the peak exercise ST segment\n",
        "    - Value 1: upsloping\n",
        "    - Value 2: flat\n",
        "    - Value 3: downsloping\n",
        "- ca: number of major vessels (0-3) colored by flourosopy\n",
        "- thal: exercise thallium scintigraphic defects\n",
        "  - 3 = normal\n",
        "  - 6 = fixed defect\n",
        "  - 7 = reversible defect\n",
        "- num: diagnosis of heart disease (angiographic disease status)\n",
        "    - Value 0: < 50% diameter narrowing\n",
        "    - Value 1: > 50% diameter narrowing (in any major vessel: attributes 59 through 68 are vessels)"
      ]
    },
    {
      "cell_type": "code",
      "metadata": {
        "id": "4BKcBRCKaiAY",
        "colab_type": "code",
        "outputId": "083a56ee-6cb6-47da-97ed-0219e2bf02f1",
        "colab": {
          "base_uri": "https://localhost:8080/",
          "height": 317
        }
      },
      "source": [
        "df.describe()"
      ],
      "execution_count": 7,
      "outputs": [
        {
          "output_type": "execute_result",
          "data": {
            "text/html": [
              "<div>\n",
              "<style scoped>\n",
              "    .dataframe tbody tr th:only-of-type {\n",
              "        vertical-align: middle;\n",
              "    }\n",
              "\n",
              "    .dataframe tbody tr th {\n",
              "        vertical-align: top;\n",
              "    }\n",
              "\n",
              "    .dataframe thead th {\n",
              "        text-align: right;\n",
              "    }\n",
              "</style>\n",
              "<table border=\"1\" class=\"dataframe\">\n",
              "  <thead>\n",
              "    <tr style=\"text-align: right;\">\n",
              "      <th></th>\n",
              "      <th>age</th>\n",
              "      <th>sex</th>\n",
              "      <th>cp</th>\n",
              "      <th>trestbps</th>\n",
              "      <th>chol</th>\n",
              "      <th>fbs</th>\n",
              "      <th>restecg</th>\n",
              "      <th>thalach</th>\n",
              "      <th>exang</th>\n",
              "      <th>oldpeak</th>\n",
              "      <th>slope</th>\n",
              "      <th>ca</th>\n",
              "      <th>thal</th>\n",
              "      <th>num</th>\n",
              "    </tr>\n",
              "  </thead>\n",
              "  <tbody>\n",
              "    <tr>\n",
              "      <th>count</th>\n",
              "      <td>297.000000</td>\n",
              "      <td>297.000000</td>\n",
              "      <td>297.000000</td>\n",
              "      <td>297.000000</td>\n",
              "      <td>297.000000</td>\n",
              "      <td>297.000000</td>\n",
              "      <td>297.000000</td>\n",
              "      <td>297.000000</td>\n",
              "      <td>297.000000</td>\n",
              "      <td>297.000000</td>\n",
              "      <td>297.000000</td>\n",
              "      <td>297.000000</td>\n",
              "      <td>297.000000</td>\n",
              "      <td>297.000000</td>\n",
              "    </tr>\n",
              "    <tr>\n",
              "      <th>mean</th>\n",
              "      <td>54.542088</td>\n",
              "      <td>0.676768</td>\n",
              "      <td>3.158249</td>\n",
              "      <td>131.693603</td>\n",
              "      <td>247.350168</td>\n",
              "      <td>0.144781</td>\n",
              "      <td>0.996633</td>\n",
              "      <td>149.599327</td>\n",
              "      <td>0.326599</td>\n",
              "      <td>1.055556</td>\n",
              "      <td>1.602694</td>\n",
              "      <td>0.676768</td>\n",
              "      <td>4.730640</td>\n",
              "      <td>0.946128</td>\n",
              "    </tr>\n",
              "    <tr>\n",
              "      <th>std</th>\n",
              "      <td>9.049736</td>\n",
              "      <td>0.468500</td>\n",
              "      <td>0.964859</td>\n",
              "      <td>17.762806</td>\n",
              "      <td>51.997583</td>\n",
              "      <td>0.352474</td>\n",
              "      <td>0.994914</td>\n",
              "      <td>22.941562</td>\n",
              "      <td>0.469761</td>\n",
              "      <td>1.166123</td>\n",
              "      <td>0.618187</td>\n",
              "      <td>0.938965</td>\n",
              "      <td>1.938629</td>\n",
              "      <td>1.234551</td>\n",
              "    </tr>\n",
              "    <tr>\n",
              "      <th>min</th>\n",
              "      <td>29.000000</td>\n",
              "      <td>0.000000</td>\n",
              "      <td>1.000000</td>\n",
              "      <td>94.000000</td>\n",
              "      <td>126.000000</td>\n",
              "      <td>0.000000</td>\n",
              "      <td>0.000000</td>\n",
              "      <td>71.000000</td>\n",
              "      <td>0.000000</td>\n",
              "      <td>0.000000</td>\n",
              "      <td>1.000000</td>\n",
              "      <td>0.000000</td>\n",
              "      <td>3.000000</td>\n",
              "      <td>0.000000</td>\n",
              "    </tr>\n",
              "    <tr>\n",
              "      <th>25%</th>\n",
              "      <td>48.000000</td>\n",
              "      <td>0.000000</td>\n",
              "      <td>3.000000</td>\n",
              "      <td>120.000000</td>\n",
              "      <td>211.000000</td>\n",
              "      <td>0.000000</td>\n",
              "      <td>0.000000</td>\n",
              "      <td>133.000000</td>\n",
              "      <td>0.000000</td>\n",
              "      <td>0.000000</td>\n",
              "      <td>1.000000</td>\n",
              "      <td>0.000000</td>\n",
              "      <td>3.000000</td>\n",
              "      <td>0.000000</td>\n",
              "    </tr>\n",
              "    <tr>\n",
              "      <th>50%</th>\n",
              "      <td>56.000000</td>\n",
              "      <td>1.000000</td>\n",
              "      <td>3.000000</td>\n",
              "      <td>130.000000</td>\n",
              "      <td>243.000000</td>\n",
              "      <td>0.000000</td>\n",
              "      <td>1.000000</td>\n",
              "      <td>153.000000</td>\n",
              "      <td>0.000000</td>\n",
              "      <td>0.800000</td>\n",
              "      <td>2.000000</td>\n",
              "      <td>0.000000</td>\n",
              "      <td>3.000000</td>\n",
              "      <td>0.000000</td>\n",
              "    </tr>\n",
              "    <tr>\n",
              "      <th>75%</th>\n",
              "      <td>61.000000</td>\n",
              "      <td>1.000000</td>\n",
              "      <td>4.000000</td>\n",
              "      <td>140.000000</td>\n",
              "      <td>276.000000</td>\n",
              "      <td>0.000000</td>\n",
              "      <td>2.000000</td>\n",
              "      <td>166.000000</td>\n",
              "      <td>1.000000</td>\n",
              "      <td>1.600000</td>\n",
              "      <td>2.000000</td>\n",
              "      <td>1.000000</td>\n",
              "      <td>7.000000</td>\n",
              "      <td>2.000000</td>\n",
              "    </tr>\n",
              "    <tr>\n",
              "      <th>max</th>\n",
              "      <td>77.000000</td>\n",
              "      <td>1.000000</td>\n",
              "      <td>4.000000</td>\n",
              "      <td>200.000000</td>\n",
              "      <td>564.000000</td>\n",
              "      <td>1.000000</td>\n",
              "      <td>2.000000</td>\n",
              "      <td>202.000000</td>\n",
              "      <td>1.000000</td>\n",
              "      <td>6.200000</td>\n",
              "      <td>3.000000</td>\n",
              "      <td>3.000000</td>\n",
              "      <td>7.000000</td>\n",
              "      <td>4.000000</td>\n",
              "    </tr>\n",
              "  </tbody>\n",
              "</table>\n",
              "</div>"
            ],
            "text/plain": [
              "              age         sex          cp  ...          ca        thal         num\n",
              "count  297.000000  297.000000  297.000000  ...  297.000000  297.000000  297.000000\n",
              "mean    54.542088    0.676768    3.158249  ...    0.676768    4.730640    0.946128\n",
              "std      9.049736    0.468500    0.964859  ...    0.938965    1.938629    1.234551\n",
              "min     29.000000    0.000000    1.000000  ...    0.000000    3.000000    0.000000\n",
              "25%     48.000000    0.000000    3.000000  ...    0.000000    3.000000    0.000000\n",
              "50%     56.000000    1.000000    3.000000  ...    0.000000    3.000000    0.000000\n",
              "75%     61.000000    1.000000    4.000000  ...    1.000000    7.000000    2.000000\n",
              "max     77.000000    1.000000    4.000000  ...    3.000000    7.000000    4.000000\n",
              "\n",
              "[8 rows x 14 columns]"
            ]
          },
          "metadata": {
            "tags": []
          },
          "execution_count": 7
        }
      ]
    },
    {
      "cell_type": "markdown",
      "metadata": {
        "id": "1Raha_OXaoqx",
        "colab_type": "text"
      },
      "source": [
        "**Examine value sets**"
      ]
    },
    {
      "cell_type": "code",
      "metadata": {
        "id": "fx1nV_5Hargc",
        "colab_type": "code",
        "outputId": "a62dd8b5-e6ec-4023-dd9d-00409a481d7f",
        "colab": {
          "base_uri": "https://localhost:8080/",
          "height": 751
        }
      },
      "source": [
        "for elem in df.columns:\n",
        "    print(elem+':')\n",
        "    print(set(df[elem].values))\n",
        "    print('----')"
      ],
      "execution_count": 8,
      "outputs": [
        {
          "output_type": "stream",
          "text": [
            "age:\n",
            "{29.0, 34.0, 35.0, 37.0, 38.0, 39.0, 40.0, 41.0, 42.0, 43.0, 44.0, 45.0, 46.0, 47.0, 48.0, 49.0, 50.0, 51.0, 52.0, 53.0, 54.0, 55.0, 56.0, 57.0, 58.0, 59.0, 60.0, 61.0, 62.0, 63.0, 64.0, 65.0, 66.0, 67.0, 68.0, 69.0, 70.0, 71.0, 74.0, 76.0, 77.0}\n",
            "----\n",
            "sex:\n",
            "{0.0, 1.0}\n",
            "----\n",
            "cp:\n",
            "{1.0, 2.0, 3.0, 4.0}\n",
            "----\n",
            "trestbps:\n",
            "{128.0, 129.0, 130.0, 132.0, 134.0, 135.0, 136.0, 138.0, 140.0, 142.0, 144.0, 145.0, 146.0, 148.0, 150.0, 152.0, 154.0, 155.0, 156.0, 158.0, 160.0, 164.0, 165.0, 170.0, 172.0, 174.0, 178.0, 180.0, 192.0, 200.0, 94.0, 100.0, 101.0, 102.0, 104.0, 105.0, 106.0, 108.0, 110.0, 112.0, 114.0, 115.0, 117.0, 118.0, 120.0, 122.0, 123.0, 124.0, 125.0, 126.0}\n",
            "----\n",
            "chol:\n",
            "{564.0, 126.0, 131.0, 141.0, 149.0, 157.0, 160.0, 164.0, 166.0, 167.0, 168.0, 169.0, 172.0, 174.0, 175.0, 176.0, 177.0, 178.0, 180.0, 182.0, 183.0, 184.0, 185.0, 186.0, 187.0, 188.0, 192.0, 193.0, 195.0, 196.0, 197.0, 198.0, 199.0, 200.0, 201.0, 203.0, 204.0, 205.0, 206.0, 207.0, 208.0, 209.0, 210.0, 211.0, 212.0, 213.0, 214.0, 215.0, 216.0, 217.0, 218.0, 219.0, 220.0, 221.0, 222.0, 223.0, 224.0, 225.0, 226.0, 227.0, 228.0, 229.0, 230.0, 231.0, 232.0, 233.0, 234.0, 235.0, 236.0, 237.0, 239.0, 240.0, 241.0, 242.0, 243.0, 244.0, 245.0, 246.0, 247.0, 248.0, 249.0, 250.0, 252.0, 253.0, 254.0, 255.0, 256.0, 257.0, 258.0, 259.0, 260.0, 261.0, 262.0, 263.0, 264.0, 265.0, 266.0, 267.0, 268.0, 269.0, 270.0, 271.0, 273.0, 274.0, 275.0, 276.0, 277.0, 278.0, 281.0, 282.0, 283.0, 284.0, 286.0, 288.0, 289.0, 290.0, 293.0, 294.0, 295.0, 298.0, 299.0, 300.0, 302.0, 303.0, 304.0, 305.0, 306.0, 307.0, 308.0, 309.0, 311.0, 313.0, 315.0, 318.0, 319.0, 321.0, 322.0, 325.0, 326.0, 327.0, 330.0, 335.0, 340.0, 341.0, 342.0, 353.0, 354.0, 360.0, 394.0, 407.0, 409.0, 417.0}\n",
            "----\n",
            "fbs:\n",
            "{0.0, 1.0}\n",
            "----\n",
            "restecg:\n",
            "{0.0, 1.0, 2.0}\n",
            "----\n",
            "thalach:\n",
            "{71.0, 88.0, 90.0, 95.0, 96.0, 97.0, 99.0, 103.0, 105.0, 106.0, 108.0, 109.0, 111.0, 112.0, 113.0, 114.0, 115.0, 116.0, 117.0, 118.0, 120.0, 121.0, 122.0, 123.0, 124.0, 125.0, 126.0, 127.0, 128.0, 129.0, 130.0, 131.0, 132.0, 133.0, 134.0, 136.0, 137.0, 138.0, 139.0, 140.0, 141.0, 142.0, 143.0, 144.0, 145.0, 146.0, 147.0, 148.0, 149.0, 150.0, 151.0, 152.0, 153.0, 154.0, 155.0, 156.0, 157.0, 158.0, 159.0, 160.0, 161.0, 162.0, 163.0, 164.0, 165.0, 166.0, 167.0, 168.0, 169.0, 170.0, 171.0, 172.0, 173.0, 174.0, 175.0, 177.0, 178.0, 179.0, 180.0, 181.0, 182.0, 184.0, 185.0, 186.0, 187.0, 188.0, 190.0, 192.0, 194.0, 195.0, 202.0}\n",
            "----\n",
            "exang:\n",
            "{0.0, 1.0}\n",
            "----\n",
            "oldpeak:\n",
            "{0.8, 1.5, 2.3, 3.5, 2.6, 1.4, 3.6, 0.6, 3.1, 0.4, 1.3, 0.0, 0.5, 1.0, 2.0, 2.5, 3.0, 4.0, 4.4, 5.6, 1.6, 1.1, 2.1, 0.7, 0.2, 1.2, 0.1, 2.2, 2.8, 0.3, 3.2, 3.8, 4.2, 1.8, 6.2, 1.9, 0.9, 2.4, 2.9, 3.4}\n",
            "----\n",
            "slope:\n",
            "{1.0, 2.0, 3.0}\n",
            "----\n",
            "ca:\n",
            "{0.0, 1.0, 2.0, 3.0}\n",
            "----\n",
            "thal:\n",
            "{3.0, 6.0, 7.0}\n",
            "----\n",
            "num:\n",
            "{0, 1, 2, 3, 4}\n",
            "----\n"
          ],
          "name": "stdout"
        }
      ]
    },
    {
      "cell_type": "markdown",
      "metadata": {
        "id": "dpULXWX0a2j3",
        "colab_type": "text"
      },
      "source": [
        "__Encode num as categorical__:<br>\n",
        "- presence = 1 (for values 1,2,3,4)\n",
        "- absence = 0 (for value 0)"
      ]
    },
    {
      "cell_type": "code",
      "metadata": {
        "id": "xCb8qwy-a5SI",
        "colab_type": "code",
        "outputId": "cb245694-4b9a-4f2e-87fd-8c21d46aa6e9",
        "colab": {
          "base_uri": "https://localhost:8080/",
          "height": 309
        }
      },
      "source": [
        "df['num'][df['num'] >= 1] = 1\n",
        "df.head()"
      ],
      "execution_count": 9,
      "outputs": [
        {
          "output_type": "stream",
          "text": [
            "/usr/local/lib/python3.6/dist-packages/ipykernel_launcher.py:1: SettingWithCopyWarning: \n",
            "A value is trying to be set on a copy of a slice from a DataFrame\n",
            "\n",
            "See the caveats in the documentation: http://pandas.pydata.org/pandas-docs/stable/user_guide/indexing.html#returning-a-view-versus-a-copy\n",
            "  \"\"\"Entry point for launching an IPython kernel.\n"
          ],
          "name": "stderr"
        },
        {
          "output_type": "execute_result",
          "data": {
            "text/html": [
              "<div>\n",
              "<style scoped>\n",
              "    .dataframe tbody tr th:only-of-type {\n",
              "        vertical-align: middle;\n",
              "    }\n",
              "\n",
              "    .dataframe tbody tr th {\n",
              "        vertical-align: top;\n",
              "    }\n",
              "\n",
              "    .dataframe thead th {\n",
              "        text-align: right;\n",
              "    }\n",
              "</style>\n",
              "<table border=\"1\" class=\"dataframe\">\n",
              "  <thead>\n",
              "    <tr style=\"text-align: right;\">\n",
              "      <th></th>\n",
              "      <th>age</th>\n",
              "      <th>sex</th>\n",
              "      <th>cp</th>\n",
              "      <th>trestbps</th>\n",
              "      <th>chol</th>\n",
              "      <th>fbs</th>\n",
              "      <th>restecg</th>\n",
              "      <th>thalach</th>\n",
              "      <th>exang</th>\n",
              "      <th>oldpeak</th>\n",
              "      <th>slope</th>\n",
              "      <th>ca</th>\n",
              "      <th>thal</th>\n",
              "      <th>num</th>\n",
              "    </tr>\n",
              "  </thead>\n",
              "  <tbody>\n",
              "    <tr>\n",
              "      <th>0</th>\n",
              "      <td>63.0</td>\n",
              "      <td>1.0</td>\n",
              "      <td>1.0</td>\n",
              "      <td>145.0</td>\n",
              "      <td>233.0</td>\n",
              "      <td>1.0</td>\n",
              "      <td>2.0</td>\n",
              "      <td>150.0</td>\n",
              "      <td>0.0</td>\n",
              "      <td>2.3</td>\n",
              "      <td>3.0</td>\n",
              "      <td>0.0</td>\n",
              "      <td>6.0</td>\n",
              "      <td>0</td>\n",
              "    </tr>\n",
              "    <tr>\n",
              "      <th>1</th>\n",
              "      <td>67.0</td>\n",
              "      <td>1.0</td>\n",
              "      <td>4.0</td>\n",
              "      <td>160.0</td>\n",
              "      <td>286.0</td>\n",
              "      <td>0.0</td>\n",
              "      <td>2.0</td>\n",
              "      <td>108.0</td>\n",
              "      <td>1.0</td>\n",
              "      <td>1.5</td>\n",
              "      <td>2.0</td>\n",
              "      <td>3.0</td>\n",
              "      <td>3.0</td>\n",
              "      <td>1</td>\n",
              "    </tr>\n",
              "    <tr>\n",
              "      <th>2</th>\n",
              "      <td>67.0</td>\n",
              "      <td>1.0</td>\n",
              "      <td>4.0</td>\n",
              "      <td>120.0</td>\n",
              "      <td>229.0</td>\n",
              "      <td>0.0</td>\n",
              "      <td>2.0</td>\n",
              "      <td>129.0</td>\n",
              "      <td>1.0</td>\n",
              "      <td>2.6</td>\n",
              "      <td>2.0</td>\n",
              "      <td>2.0</td>\n",
              "      <td>7.0</td>\n",
              "      <td>1</td>\n",
              "    </tr>\n",
              "    <tr>\n",
              "      <th>3</th>\n",
              "      <td>37.0</td>\n",
              "      <td>1.0</td>\n",
              "      <td>3.0</td>\n",
              "      <td>130.0</td>\n",
              "      <td>250.0</td>\n",
              "      <td>0.0</td>\n",
              "      <td>0.0</td>\n",
              "      <td>187.0</td>\n",
              "      <td>0.0</td>\n",
              "      <td>3.5</td>\n",
              "      <td>3.0</td>\n",
              "      <td>0.0</td>\n",
              "      <td>3.0</td>\n",
              "      <td>0</td>\n",
              "    </tr>\n",
              "    <tr>\n",
              "      <th>4</th>\n",
              "      <td>41.0</td>\n",
              "      <td>0.0</td>\n",
              "      <td>2.0</td>\n",
              "      <td>130.0</td>\n",
              "      <td>204.0</td>\n",
              "      <td>0.0</td>\n",
              "      <td>2.0</td>\n",
              "      <td>172.0</td>\n",
              "      <td>0.0</td>\n",
              "      <td>1.4</td>\n",
              "      <td>1.0</td>\n",
              "      <td>0.0</td>\n",
              "      <td>3.0</td>\n",
              "      <td>0</td>\n",
              "    </tr>\n",
              "  </tbody>\n",
              "</table>\n",
              "</div>"
            ],
            "text/plain": [
              "    age  sex   cp  trestbps   chol  fbs  ...  exang  oldpeak  slope   ca  thal  num\n",
              "0  63.0  1.0  1.0     145.0  233.0  1.0  ...    0.0      2.3    3.0  0.0   6.0    0\n",
              "1  67.0  1.0  4.0     160.0  286.0  0.0  ...    1.0      1.5    2.0  3.0   3.0    1\n",
              "2  67.0  1.0  4.0     120.0  229.0  0.0  ...    1.0      2.6    2.0  2.0   7.0    1\n",
              "3  37.0  1.0  3.0     130.0  250.0  0.0  ...    0.0      3.5    3.0  0.0   3.0    0\n",
              "4  41.0  0.0  2.0     130.0  204.0  0.0  ...    0.0      1.4    1.0  0.0   3.0    0\n",
              "\n",
              "[5 rows x 14 columns]"
            ]
          },
          "metadata": {
            "tags": []
          },
          "execution_count": 9
        }
      ]
    },
    {
      "cell_type": "markdown",
      "metadata": {
        "id": "I7M_28h-bCaW",
        "colab_type": "text"
      },
      "source": [
        "__Convert float to int__<br>\n",
        "See which columns can be changed to datatype int64; then change float to int for all possible cases.<br>"
      ]
    },
    {
      "cell_type": "code",
      "metadata": {
        "id": "wS4lF1IQbMrq",
        "colab_type": "code",
        "outputId": "47091e0c-6a91-49fc-83a0-25b2f1662240",
        "colab": {
          "base_uri": "https://localhost:8080/",
          "height": 255
        }
      },
      "source": [
        "for col in df.columns.values.tolist():\n",
        "    if df[col].dtype == np.float64:\n",
        "        print(col + \"\\t: \" + str(df[col].apply(float.is_integer).all()))\n",
        "    else:\n",
        "        print(col + \"\\t: \" + str(df[col].dtype))"
      ],
      "execution_count": 10,
      "outputs": [
        {
          "output_type": "stream",
          "text": [
            "age\t: True\n",
            "sex\t: True\n",
            "cp\t: True\n",
            "trestbps\t: True\n",
            "chol\t: True\n",
            "fbs\t: True\n",
            "restecg\t: True\n",
            "thalach\t: True\n",
            "exang\t: True\n",
            "oldpeak\t: False\n",
            "slope\t: True\n",
            "ca\t: True\n",
            "thal\t: True\n",
            "num\t: int64\n"
          ],
          "name": "stdout"
        }
      ]
    },
    {
      "cell_type": "code",
      "metadata": {
        "id": "LmvS52HsbWQ1",
        "colab_type": "code",
        "colab": {}
      },
      "source": [
        "for col in df.columns.values.tolist():\n",
        "    if df[col].dtype == np.float64 and df[col].apply(float.is_integer).all():\n",
        "        df[col] = df[col].astype('int64')"
      ],
      "execution_count": 0,
      "outputs": []
    },
    {
      "cell_type": "markdown",
      "metadata": {
        "id": "I0csrjqe7LiC",
        "colab_type": "text"
      },
      "source": [
        "# Train Decision Trees \n",
        "with depth 2, 3 and 4 and reduced by PCA to two dimensions"
      ]
    },
    {
      "cell_type": "code",
      "metadata": {
        "id": "kz4Il0Vf7Qsd",
        "colab_type": "code",
        "outputId": "9d119dfc-fcac-420e-d486-119c629c63bf",
        "colab": {
          "base_uri": "https://localhost:8080/",
          "height": 729
        }
      },
      "source": [
        "from sklearn.model_selection import train_test_split\n",
        "from sklearn import decomposition\n",
        "from sklearn.tree import DecisionTreeClassifier\n",
        "h = .02  # step size in the mesh\n",
        "\n",
        "names = ['Decision Tree (depth=2)', 'Decision Tree (depth=3)', 'Decision Tree (depth=4)']\n",
        "\n",
        "classifiers = [\n",
        "    DecisionTreeClassifier(max_depth=2),\n",
        "    DecisionTreeClassifier(max_depth=3),\n",
        "    DecisionTreeClassifier(max_depth=4)\n",
        "    ]\n",
        "\n",
        "figure = plt.figure(figsize=(10, 10))\n",
        "i = 1\n",
        "# perform PCA to reduce the dimensions to 2\n",
        "pca = decomposition.PCA(n_components=2)\n",
        "pca.fit(df.drop('num', axis=1))\n",
        "X = pca.transform(df.drop('num', axis=1))\n",
        "y = df['num']\n",
        "X_train, X_test, y_train, y_test = train_test_split(X, y, test_size=.4)\n",
        "\n",
        "x_min, x_max = X[:, 0].min() - 1, X[:, 0].max() + 1\n",
        "y_min, y_max = X[:, 1].min() - 1, X[:, 1].max() + 1\n",
        "xx, yy = np.meshgrid(np.arange(x_min, x_max, 0.1), np.arange(y_min, y_max, 0.1))\n",
        "\n",
        "ax = plt.subplot(2, 2, i)\n",
        "ax.set_title(\"Input data\")\n",
        "# Plot the training and testing points\n",
        "ix1 = np.where(y_train.to_numpy() == 0)\n",
        "ix2 = np.where(y_train.to_numpy() == 1)\n",
        "ix3 = np.where(y_test.to_numpy() == 0)\n",
        "ix4 = np.where(y_test.to_numpy() == 1)\n",
        "ax.scatter(np.concatenate((X_train[:, 0][ix1], X_test[:, 0][ix3])),\n",
        "           np.concatenate((X_train[:, 1][ix1], X_test[:, 1][ix3])),\n",
        "           s = 20, edgecolor='k', label='< 50% diameter narrowing')\n",
        "ax.scatter(np.concatenate((X_train[:, 0][ix2], X_test[:, 0][ix4])),\n",
        "           np.concatenate((X_train[:, 1][ix2], X_test[:, 1][ix4])),\n",
        "           s=20, edgecolor='k', label='> 50% diameter narrowing')\n",
        "ax.set_xlim(xx.min(), xx.max())\n",
        "ax.set_ylim(yy.min(), yy.max())\n",
        "ax.set_xticks(())\n",
        "ax.set_yticks(())\n",
        "ax.legend()\n",
        "i += 1\n",
        "tree_list = []\n",
        "# iterate over classifiers\n",
        "for name, clf in zip(names, classifiers):\n",
        "    ax = plt.subplot(2, 2, i)\n",
        "    clf.fit(X_train, y_train)\n",
        "    score = clf.score(X_test, y_test)\n",
        "    tree_list += [clf]\n",
        "    # Plot the decision boundary. For that, we will assign a color to each\n",
        "    Z = clf.predict(np.c_[xx.ravel(), yy.ravel()])\n",
        "    Z = Z.reshape(xx.shape)\n",
        "    ax.contourf(xx, yy, Z, alpha=.8)\n",
        "    # Plot the training and testing points\n",
        "    ax.scatter(np.concatenate((X_train[:, 0][ix1], X_test[:, 0][ix3])),\n",
        "           np.concatenate((X_train[:, 1][ix1], X_test[:, 1][ix3])),\n",
        "           s = 20, edgecolor='k', label='< 50% diameter narrowing')\n",
        "    ax.scatter(np.concatenate((X_train[:, 0][ix2], X_test[:, 0][ix4])),\n",
        "           np.concatenate((X_train[:, 1][ix2], X_test[:, 1][ix4])),\n",
        "           s=20, edgecolor='k', label='> 50% diameter narrowing')\n",
        "    ax.set_xlim(xx.min(), xx.max())\n",
        "    ax.set_ylim(yy.min(), yy.max())\n",
        "    ax.set_xticks(())\n",
        "    ax.set_yticks(())\n",
        "    ax.set_title(name)\n",
        "    ax.legend()\n",
        "    ax.text(xx.max() - .8, yy.min() + .8, ('%.2f' % score).lstrip('0'),\n",
        "                size=15, horizontalalignment='right')\n",
        "    i += 1\n",
        "\n",
        "plt.tight_layout()\n",
        "plt.show()"
      ],
      "execution_count": 12,
      "outputs": [
        {
          "output_type": "display_data",
          "data": {
            "image/png": "[encoded data removed]",
            "text/plain": [
              "<Figure size 720x720 with 4 Axes>"
            ]
          },
          "metadata": {
            "tags": []
          }
        }
      ]
    },
    {
      "cell_type": "markdown",
      "metadata": {
        "id": "QDlyjVcAupE9",
        "colab_type": "text"
      },
      "source": [
        "# Plot the Decision Trees"
      ]
    },
    {
      "cell_type": "code",
      "metadata": {
        "id": "F727KfvvElRG",
        "colab_type": "code",
        "outputId": "515303ca-f5a9-439c-c335-3cc9daebf6d3",
        "colab": {
          "base_uri": "https://localhost:8080/",
          "height": 1000
        }
      },
      "source": [
        "from graphviz import Source\n",
        "from sklearn import tree\n",
        "from IPython.display import SVG\n",
        "i = 2\n",
        "for class_tree in tree_list:\n",
        "  # tree.export_graphviz(class_tree, out_file=\"DTree_Depth_\" + str(i), feature_names=['PC1','PC2'], filled=True)\n",
        "  graph = Source( tree.export_graphviz(class_tree, out_file=None, feature_names=['PC1','PC2'], filled=True))\n",
        "  print('Decision Tree with depth', i)\n",
        "  display(SVG(graph.pipe(format='svg')))\n",
        "  i += 1"
      ],
      "execution_count": 13,
      "outputs": [
        {
          "output_type": "stream",
          "text": [
            "Decision Tree with depth 2\n"
          ],
          "name": "stdout"
        },
        {
          "output_type": "display_data",
          "data": {
            "text/plain": [
              "<IPython.core.display.SVG object>"
            ],
            "image/svg+xml": "<svg height=\"269pt\" viewBox=\"0.00 0.00 486.00 269.00\" width=\"486pt\" xmlns=\"http://www.w3.org/2000/svg\" xmlns:xlink=\"http://www.w3.org/1999/xlink\">\n<g class=\"graph\" id=\"graph0\" transform=\"scale(1 1) rotate(0) translate(4 265)\">\n<title>Tree</title>\n<polygon fill=\"#ffffff\" points=\"-4,4 -4,-265 482,-265 482,4 -4,4\" stroke=\"transparent\"/>\n<!-- 0 -->\n<g class=\"node\" id=\"node1\">\n<title>0</title>\n<polygon fill=\"#fcefe6\" points=\"293,-261 183,-261 183,-193 293,-193 293,-261\" stroke=\"#000000\"/>\n<text fill=\"#000000\" font-family=\"Times,serif\" font-size=\"14.00\" text-anchor=\"middle\" x=\"238\" y=\"-245.8\">PC2 &lt;= 4.072</text>\n<text fill=\"#000000\" font-family=\"Times,serif\" font-size=\"14.00\" text-anchor=\"middle\" x=\"238\" y=\"-230.8\">gini = 0.498</text>\n<text fill=\"#000000\" font-family=\"Times,serif\" font-size=\"14.00\" text-anchor=\"middle\" x=\"238\" y=\"-215.8\">samples = 178</text>\n<text fill=\"#000000\" font-family=\"Times,serif\" font-size=\"14.00\" text-anchor=\"middle\" x=\"238\" y=\"-200.8\">value = [95, 83]</text>\n</g>\n<!-- 1 -->\n<g class=\"node\" id=\"node2\">\n<title>1</title>\n<polygon fill=\"#f0b58b\" points=\"230,-157 118,-157 118,-89 230,-89 230,-157\" stroke=\"#000000\"/>\n<text fill=\"#000000\" font-family=\"Times,serif\" font-size=\"14.00\" text-anchor=\"middle\" x=\"174\" y=\"-141.8\">PC2 &lt;= -21.652</text>\n<text fill=\"#000000\" font-family=\"Times,serif\" font-size=\"14.00\" text-anchor=\"middle\" x=\"174\" y=\"-126.8\">gini = 0.414</text>\n<text fill=\"#000000\" font-family=\"Times,serif\" font-size=\"14.00\" text-anchor=\"middle\" x=\"174\" y=\"-111.8\">samples = 106</text>\n<text fill=\"#000000\" font-family=\"Times,serif\" font-size=\"14.00\" text-anchor=\"middle\" x=\"174\" y=\"-96.8\">value = [75, 31]</text>\n</g>\n<!-- 0&#45;&gt;1 -->\n<g class=\"edge\" id=\"edge1\">\n<title>0-&gt;1</title>\n<path d=\"M217.044,-192.9465C211.6845,-184.2373 205.8539,-174.7626 200.2647,-165.6801\" fill=\"none\" stroke=\"#000000\"/>\n<polygon fill=\"#000000\" points=\"203.2249,-163.8122 195.0031,-157.13 197.2633,-167.481 203.2249,-163.8122\" stroke=\"#000000\"/>\n<text fill=\"#000000\" font-family=\"Times,serif\" font-size=\"14.00\" text-anchor=\"middle\" x=\"189.2126\" y=\"-177.7502\">True</text>\n</g>\n<!-- 4 -->\n<g class=\"node\" id=\"node5\">\n<title>4</title>\n<polygon fill=\"#85c3ef\" points=\"358,-157 248,-157 248,-89 358,-89 358,-157\" stroke=\"#000000\"/>\n<text fill=\"#000000\" font-family=\"Times,serif\" font-size=\"14.00\" text-anchor=\"middle\" x=\"303\" y=\"-141.8\">PC1 &lt;= 27.563</text>\n<text fill=\"#000000\" font-family=\"Times,serif\" font-size=\"14.00\" text-anchor=\"middle\" x=\"303\" y=\"-126.8\">gini = 0.401</text>\n<text fill=\"#000000\" font-family=\"Times,serif\" font-size=\"14.00\" text-anchor=\"middle\" x=\"303\" y=\"-111.8\">samples = 72</text>\n<text fill=\"#000000\" font-family=\"Times,serif\" font-size=\"14.00\" text-anchor=\"middle\" x=\"303\" y=\"-96.8\">value = [20, 52]</text>\n</g>\n<!-- 0&#45;&gt;4 -->\n<g class=\"edge\" id=\"edge4\">\n<title>0-&gt;4</title>\n<path d=\"M259.2834,-192.9465C264.7267,-184.2373 270.6484,-174.7626 276.325,-165.6801\" fill=\"none\" stroke=\"#000000\"/>\n<polygon fill=\"#000000\" points=\"279.3367,-167.465 281.6688,-157.13 273.4007,-163.755 279.3367,-167.465\" stroke=\"#000000\"/>\n<text fill=\"#000000\" font-family=\"Times,serif\" font-size=\"14.00\" text-anchor=\"middle\" x=\"287.2902\" y=\"-177.7898\">False</text>\n</g>\n<!-- 2 -->\n<g class=\"node\" id=\"node3\">\n<title>2</title>\n<polygon fill=\"#e99355\" points=\"102,-53 0,-53 0,0 102,0 102,-53\" stroke=\"#000000\"/>\n<text fill=\"#000000\" font-family=\"Times,serif\" font-size=\"14.00\" text-anchor=\"middle\" x=\"51\" y=\"-37.8\">gini = 0.219</text>\n<text fill=\"#000000\" font-family=\"Times,serif\" font-size=\"14.00\" text-anchor=\"middle\" x=\"51\" y=\"-22.8\">samples = 32</text>\n<text fill=\"#000000\" font-family=\"Times,serif\" font-size=\"14.00\" text-anchor=\"middle\" x=\"51\" y=\"-7.8\">value = [28, 4]</text>\n</g>\n<!-- 1&#45;&gt;2 -->\n<g class=\"edge\" id=\"edge2\">\n<title>1-&gt;2</title>\n<path d=\"M130.6348,-88.9777C118.4964,-79.4545 105.3228,-69.1191 93.2499,-59.6473\" fill=\"none\" stroke=\"#000000\"/>\n<polygon fill=\"#000000\" points=\"95.122,-56.6674 85.0939,-53.2485 90.8011,-62.1748 95.122,-56.6674\" stroke=\"#000000\"/>\n</g>\n<!-- 3 -->\n<g class=\"node\" id=\"node4\">\n<title>3</title>\n<polygon fill=\"#f4c9ab\" points=\"230,-53 120,-53 120,0 230,0 230,-53\" stroke=\"#000000\"/>\n<text fill=\"#000000\" font-family=\"Times,serif\" font-size=\"14.00\" text-anchor=\"middle\" x=\"175\" y=\"-37.8\">gini = 0.463</text>\n<text fill=\"#000000\" font-family=\"Times,serif\" font-size=\"14.00\" text-anchor=\"middle\" x=\"175\" y=\"-22.8\">samples = 74</text>\n<text fill=\"#000000\" font-family=\"Times,serif\" font-size=\"14.00\" text-anchor=\"middle\" x=\"175\" y=\"-7.8\">value = [47, 27]</text>\n</g>\n<!-- 1&#45;&gt;3 -->\n<g class=\"edge\" id=\"edge3\">\n<title>1-&gt;3</title>\n<path d=\"M174.3526,-88.9777C174.438,-80.7364 174.5297,-71.887 174.6164,-63.5153\" fill=\"none\" stroke=\"#000000\"/>\n<polygon fill=\"#000000\" points=\"178.1189,-63.2842 174.7228,-53.2485 171.1193,-63.2116 178.1189,-63.2842\" stroke=\"#000000\"/>\n</g>\n<!-- 5 -->\n<g class=\"node\" id=\"node6\">\n<title>5</title>\n<polygon fill=\"#a2d1f3\" points=\"358,-53 248,-53 248,0 358,0 358,-53\" stroke=\"#000000\"/>\n<text fill=\"#000000\" font-family=\"Times,serif\" font-size=\"14.00\" text-anchor=\"middle\" x=\"303\" y=\"-37.8\">gini = 0.452</text>\n<text fill=\"#000000\" font-family=\"Times,serif\" font-size=\"14.00\" text-anchor=\"middle\" x=\"303\" y=\"-22.8\">samples = 55</text>\n<text fill=\"#000000\" font-family=\"Times,serif\" font-size=\"14.00\" text-anchor=\"middle\" x=\"303\" y=\"-7.8\">value = [19, 36]</text>\n</g>\n<!-- 4&#45;&gt;5 -->\n<g class=\"edge\" id=\"edge5\">\n<title>4-&gt;5</title>\n<path d=\"M303,-88.9777C303,-80.7364 303,-71.887 303,-63.5153\" fill=\"none\" stroke=\"#000000\"/>\n<polygon fill=\"#000000\" points=\"306.5001,-63.2484 303,-53.2485 299.5001,-63.2485 306.5001,-63.2484\" stroke=\"#000000\"/>\n</g>\n<!-- 6 -->\n<g class=\"node\" id=\"node7\">\n<title>6</title>\n<polygon fill=\"#45a3e7\" points=\"478,-53 376,-53 376,0 478,0 478,-53\" stroke=\"#000000\"/>\n<text fill=\"#000000\" font-family=\"Times,serif\" font-size=\"14.00\" text-anchor=\"middle\" x=\"427\" y=\"-37.8\">gini = 0.111</text>\n<text fill=\"#000000\" font-family=\"Times,serif\" font-size=\"14.00\" text-anchor=\"middle\" x=\"427\" y=\"-22.8\">samples = 17</text>\n<text fill=\"#000000\" font-family=\"Times,serif\" font-size=\"14.00\" text-anchor=\"middle\" x=\"427\" y=\"-7.8\">value = [1, 16]</text>\n</g>\n<!-- 4&#45;&gt;6 -->\n<g class=\"edge\" id=\"edge6\">\n<title>4-&gt;6</title>\n<path d=\"M346.7178,-88.9777C358.9549,-79.4545 372.2355,-69.1191 384.4066,-59.6473\" fill=\"none\" stroke=\"#000000\"/>\n<polygon fill=\"#000000\" points=\"386.8866,-62.1523 392.6289,-53.2485 382.5875,-56.628 386.8866,-62.1523\" stroke=\"#000000\"/>\n</g>\n</g>\n</svg>"
          },
          "metadata": {
            "tags": []
          }
        },
        {
          "output_type": "stream",
          "text": [
            "Decision Tree with depth 3\n"
          ],
          "name": "stdout"
        },
        {
          "output_type": "display_data",
          "data": {
            "text/plain": [
              "<IPython.core.display.SVG object>"
            ],
            "image/svg+xml": "<svg height=\"373pt\" viewBox=\"0.00 0.00 967.50 373.00\" width=\"968pt\" xmlns=\"http://www.w3.org/2000/svg\" xmlns:xlink=\"http://www.w3.org/1999/xlink\">\n<g class=\"graph\" id=\"graph0\" transform=\"scale(1 1) rotate(0) translate(4 369)\">\n<title>Tree</title>\n<polygon fill=\"#ffffff\" points=\"-4,4 -4,-369 963.5,-369 963.5,4 -4,4\" stroke=\"transparent\"/>\n<!-- 0 -->\n<g class=\"node\" id=\"node1\">\n<title>0</title>\n<polygon fill=\"#fcefe6\" points=\"541,-365 431,-365 431,-297 541,-297 541,-365\" stroke=\"#000000\"/>\n<text fill=\"#000000\" font-family=\"Times,serif\" font-size=\"14.00\" text-anchor=\"middle\" x=\"486\" y=\"-349.8\">PC2 &lt;= 4.072</text>\n<text fill=\"#000000\" font-family=\"Times,serif\" font-size=\"14.00\" text-anchor=\"middle\" x=\"486\" y=\"-334.8\">gini = 0.498</text>\n<text fill=\"#000000\" font-family=\"Times,serif\" font-size=\"14.00\" text-anchor=\"middle\" x=\"486\" y=\"-319.8\">samples = 178</text>\n<text fill=\"#000000\" font-family=\"Times,serif\" font-size=\"14.00\" text-anchor=\"middle\" x=\"486\" y=\"-304.8\">value = [95, 83]</text>\n</g>\n<!-- 1 -->\n<g class=\"node\" id=\"node2\">\n<title>1</title>\n<polygon fill=\"#f0b58b\" points=\"417,-261 305,-261 305,-193 417,-193 417,-261\" stroke=\"#000000\"/>\n<text fill=\"#000000\" font-family=\"Times,serif\" font-size=\"14.00\" text-anchor=\"middle\" x=\"361\" y=\"-245.8\">PC2 &lt;= -21.652</text>\n<text fill=\"#000000\" font-family=\"Times,serif\" font-size=\"14.00\" text-anchor=\"middle\" x=\"361\" y=\"-230.8\">gini = 0.414</text>\n<text fill=\"#000000\" font-family=\"Times,serif\" font-size=\"14.00\" text-anchor=\"middle\" x=\"361\" y=\"-215.8\">samples = 106</text>\n<text fill=\"#000000\" font-family=\"Times,serif\" font-size=\"14.00\" text-anchor=\"middle\" x=\"361\" y=\"-200.8\">value = [75, 31]</text>\n</g>\n<!-- 0&#45;&gt;1 -->\n<g class=\"edge\" id=\"edge1\">\n<title>0-&gt;1</title>\n<path d=\"M445.0703,-296.9465C433.8472,-287.6088 421.5663,-277.3911 409.9427,-267.7203\" fill=\"none\" stroke=\"#000000\"/>\n<polygon fill=\"#000000\" points=\"411.9474,-264.8353 402.0216,-261.13 407.4704,-270.2164 411.9474,-264.8353\" stroke=\"#000000\"/>\n<text fill=\"#000000\" font-family=\"Times,serif\" font-size=\"14.00\" text-anchor=\"middle\" x=\"404.3046\" y=\"-282.3255\">True</text>\n</g>\n<!-- 8 -->\n<g class=\"node\" id=\"node9\">\n<title>8</title>\n<polygon fill=\"#85c3ef\" points=\"664,-261 554,-261 554,-193 664,-193 664,-261\" stroke=\"#000000\"/>\n<text fill=\"#000000\" font-family=\"Times,serif\" font-size=\"14.00\" text-anchor=\"middle\" x=\"609\" y=\"-245.8\">PC1 &lt;= 27.563</text>\n<text fill=\"#000000\" font-family=\"Times,serif\" font-size=\"14.00\" text-anchor=\"middle\" x=\"609\" y=\"-230.8\">gini = 0.401</text>\n<text fill=\"#000000\" font-family=\"Times,serif\" font-size=\"14.00\" text-anchor=\"middle\" x=\"609\" y=\"-215.8\">samples = 72</text>\n<text fill=\"#000000\" font-family=\"Times,serif\" font-size=\"14.00\" text-anchor=\"middle\" x=\"609\" y=\"-200.8\">value = [20, 52]</text>\n</g>\n<!-- 0&#45;&gt;8 -->\n<g class=\"edge\" id=\"edge8\">\n<title>0-&gt;8</title>\n<path d=\"M526.2748,-296.9465C537.3184,-287.6088 549.4028,-277.3911 560.8404,-267.7203\" fill=\"none\" stroke=\"#000000\"/>\n<polygon fill=\"#000000\" points=\"563.2583,-270.2594 568.6347,-261.13 558.7386,-264.914 563.2583,-270.2594\" stroke=\"#000000\"/>\n<text fill=\"#000000\" font-family=\"Times,serif\" font-size=\"14.00\" text-anchor=\"middle\" x=\"566.5495\" y=\"-282.3429\">False</text>\n</g>\n<!-- 2 -->\n<g class=\"node\" id=\"node3\">\n<title>2</title>\n<polygon fill=\"#e99355\" points=\"227,-157 115,-157 115,-89 227,-89 227,-157\" stroke=\"#000000\"/>\n<text fill=\"#000000\" font-family=\"Times,serif\" font-size=\"14.00\" text-anchor=\"middle\" x=\"171\" y=\"-141.8\">PC2 &lt;= -29.589</text>\n<text fill=\"#000000\" font-family=\"Times,serif\" font-size=\"14.00\" text-anchor=\"middle\" x=\"171\" y=\"-126.8\">gini = 0.219</text>\n<text fill=\"#000000\" font-family=\"Times,serif\" font-size=\"14.00\" text-anchor=\"middle\" x=\"171\" y=\"-111.8\">samples = 32</text>\n<text fill=\"#000000\" font-family=\"Times,serif\" font-size=\"14.00\" text-anchor=\"middle\" x=\"171\" y=\"-96.8\">value = [28, 4]</text>\n</g>\n<!-- 1&#45;&gt;2 -->\n<g class=\"edge\" id=\"edge2\">\n<title>1-&gt;2</title>\n<path d=\"M304.7649,-196.2187C283.2216,-184.4265 258.4679,-170.8772 236.1582,-158.6655\" fill=\"none\" stroke=\"#000000\"/>\n<polygon fill=\"#000000\" points=\"237.5432,-155.4337 227.0908,-153.7023 234.1822,-161.574 237.5432,-155.4337\" stroke=\"#000000\"/>\n</g>\n<!-- 5 -->\n<g class=\"node\" id=\"node6\">\n<title>5</title>\n<polygon fill=\"#f4c9ab\" points=\"416,-157 306,-157 306,-89 416,-89 416,-157\" stroke=\"#000000\"/>\n<text fill=\"#000000\" font-family=\"Times,serif\" font-size=\"14.00\" text-anchor=\"middle\" x=\"361\" y=\"-141.8\">PC1 &lt;= -2.494</text>\n<text fill=\"#000000\" font-family=\"Times,serif\" font-size=\"14.00\" text-anchor=\"middle\" x=\"361\" y=\"-126.8\">gini = 0.463</text>\n<text fill=\"#000000\" font-family=\"Times,serif\" font-size=\"14.00\" text-anchor=\"middle\" x=\"361\" y=\"-111.8\">samples = 74</text>\n<text fill=\"#000000\" font-family=\"Times,serif\" font-size=\"14.00\" text-anchor=\"middle\" x=\"361\" y=\"-96.8\">value = [47, 27]</text>\n</g>\n<!-- 1&#45;&gt;5 -->\n<g class=\"edge\" id=\"edge5\">\n<title>1-&gt;5</title>\n<path d=\"M361,-192.9465C361,-184.776 361,-175.9318 361,-167.3697\" fill=\"none\" stroke=\"#000000\"/>\n<polygon fill=\"#000000\" points=\"364.5001,-167.13 361,-157.13 357.5001,-167.13 364.5001,-167.13\" stroke=\"#000000\"/>\n</g>\n<!-- 3 -->\n<g class=\"node\" id=\"node4\">\n<title>3</title>\n<polygon fill=\"#eda774\" points=\"102,-53 0,-53 0,0 102,0 102,-53\" stroke=\"#000000\"/>\n<text fill=\"#000000\" font-family=\"Times,serif\" font-size=\"14.00\" text-anchor=\"middle\" x=\"51\" y=\"-37.8\">gini = 0.355</text>\n<text fill=\"#000000\" font-family=\"Times,serif\" font-size=\"14.00\" text-anchor=\"middle\" x=\"51\" y=\"-22.8\">samples = 13</text>\n<text fill=\"#000000\" font-family=\"Times,serif\" font-size=\"14.00\" text-anchor=\"middle\" x=\"51\" y=\"-7.8\">value = [10, 3]</text>\n</g>\n<!-- 2&#45;&gt;3 -->\n<g class=\"edge\" id=\"edge3\">\n<title>2-&gt;3</title>\n<path d=\"M128.6925,-88.9777C116.8501,-79.4545 103.9979,-69.1191 92.2195,-59.6473\" fill=\"none\" stroke=\"#000000\"/>\n<polygon fill=\"#000000\" points=\"94.2486,-56.7877 84.2624,-53.2485 89.8618,-62.2427 94.2486,-56.7877\" stroke=\"#000000\"/>\n</g>\n<!-- 4 -->\n<g class=\"node\" id=\"node5\">\n<title>4</title>\n<polygon fill=\"#e68844\" points=\"222,-53 120,-53 120,0 222,0 222,-53\" stroke=\"#000000\"/>\n<text fill=\"#000000\" font-family=\"Times,serif\" font-size=\"14.00\" text-anchor=\"middle\" x=\"171\" y=\"-37.8\">gini = 0.1</text>\n<text fill=\"#000000\" font-family=\"Times,serif\" font-size=\"14.00\" text-anchor=\"middle\" x=\"171\" y=\"-22.8\">samples = 19</text>\n<text fill=\"#000000\" font-family=\"Times,serif\" font-size=\"14.00\" text-anchor=\"middle\" x=\"171\" y=\"-7.8\">value = [18, 1]</text>\n</g>\n<!-- 2&#45;&gt;4 -->\n<g class=\"edge\" id=\"edge4\">\n<title>2-&gt;4</title>\n<path d=\"M171,-88.9777C171,-80.7364 171,-71.887 171,-63.5153\" fill=\"none\" stroke=\"#000000\"/>\n<polygon fill=\"#000000\" points=\"174.5001,-63.2484 171,-53.2485 167.5001,-63.2485 174.5001,-63.2484\" stroke=\"#000000\"/>\n</g>\n<!-- 6 -->\n<g class=\"node\" id=\"node7\">\n<title>6</title>\n<polygon fill=\"#f0b48a\" points=\"349.5,-53 240.5,-53 240.5,0 349.5,0 349.5,-53\" stroke=\"#000000\"/>\n<text fill=\"#000000\" font-family=\"Times,serif\" font-size=\"14.00\" text-anchor=\"middle\" x=\"295\" y=\"-37.8\">gini = 0.411</text>\n<text fill=\"#000000\" font-family=\"Times,serif\" font-size=\"14.00\" text-anchor=\"middle\" x=\"295\" y=\"-22.8\">samples = 38</text>\n<text fill=\"#000000\" font-family=\"Times,serif\" font-size=\"14.00\" text-anchor=\"middle\" x=\"295\" y=\"-7.8\">value = [27, 11]</text>\n</g>\n<!-- 5&#45;&gt;6 -->\n<g class=\"edge\" id=\"edge6\">\n<title>5-&gt;6</title>\n<path d=\"M337.7309,-88.9777C331.656,-80.0954 325.0979,-70.5067 318.9865,-61.5711\" fill=\"none\" stroke=\"#000000\"/>\n<polygon fill=\"#000000\" points=\"321.8286,-59.5267 313.2943,-53.2485 316.0507,-63.4785 321.8286,-59.5267\" stroke=\"#000000\"/>\n</g>\n<!-- 7 -->\n<g class=\"node\" id=\"node8\">\n<title>7</title>\n<polygon fill=\"#fae6d7\" points=\"478,-53 368,-53 368,0 478,0 478,-53\" stroke=\"#000000\"/>\n<text fill=\"#000000\" font-family=\"Times,serif\" font-size=\"14.00\" text-anchor=\"middle\" x=\"423\" y=\"-37.8\">gini = 0.494</text>\n<text fill=\"#000000\" font-family=\"Times,serif\" font-size=\"14.00\" text-anchor=\"middle\" x=\"423\" y=\"-22.8\">samples = 36</text>\n<text fill=\"#000000\" font-family=\"Times,serif\" font-size=\"14.00\" text-anchor=\"middle\" x=\"423\" y=\"-7.8\">value = [20, 16]</text>\n</g>\n<!-- 5&#45;&gt;7 -->\n<g class=\"edge\" id=\"edge7\">\n<title>5-&gt;7</title>\n<path d=\"M382.8589,-88.9777C388.5068,-80.187 394.5993,-70.7044 400.2896,-61.8477\" fill=\"none\" stroke=\"#000000\"/>\n<polygon fill=\"#000000\" points=\"403.3537,-63.5536 405.8144,-53.2485 397.4644,-59.7698 403.3537,-63.5536\" stroke=\"#000000\"/>\n</g>\n<!-- 9 -->\n<g class=\"node\" id=\"node10\">\n<title>9</title>\n<polygon fill=\"#a2d1f3\" points=\"664,-157 554,-157 554,-89 664,-89 664,-157\" stroke=\"#000000\"/>\n<text fill=\"#000000\" font-family=\"Times,serif\" font-size=\"14.00\" text-anchor=\"middle\" x=\"609\" y=\"-141.8\">PC2 &lt;= 26.335</text>\n<text fill=\"#000000\" font-family=\"Times,serif\" font-size=\"14.00\" text-anchor=\"middle\" x=\"609\" y=\"-126.8\">gini = 0.452</text>\n<text fill=\"#000000\" font-family=\"Times,serif\" font-size=\"14.00\" text-anchor=\"middle\" x=\"609\" y=\"-111.8\">samples = 55</text>\n<text fill=\"#000000\" font-family=\"Times,serif\" font-size=\"14.00\" text-anchor=\"middle\" x=\"609\" y=\"-96.8\">value = [19, 36]</text>\n</g>\n<!-- 8&#45;&gt;9 -->\n<g class=\"edge\" id=\"edge9\">\n<title>8-&gt;9</title>\n<path d=\"M609,-192.9465C609,-184.776 609,-175.9318 609,-167.3697\" fill=\"none\" stroke=\"#000000\"/>\n<polygon fill=\"#000000\" points=\"612.5001,-167.13 609,-157.13 605.5001,-167.13 612.5001,-167.13\" stroke=\"#000000\"/>\n</g>\n<!-- 12 -->\n<g class=\"node\" id=\"node13\">\n<title>12</title>\n<polygon fill=\"#45a3e7\" points=\"848.5,-157 741.5,-157 741.5,-89 848.5,-89 848.5,-157\" stroke=\"#000000\"/>\n<text fill=\"#000000\" font-family=\"Times,serif\" font-size=\"14.00\" text-anchor=\"middle\" x=\"795\" y=\"-141.8\">PC1 &lt;= 53.146</text>\n<text fill=\"#000000\" font-family=\"Times,serif\" font-size=\"14.00\" text-anchor=\"middle\" x=\"795\" y=\"-126.8\">gini = 0.111</text>\n<text fill=\"#000000\" font-family=\"Times,serif\" font-size=\"14.00\" text-anchor=\"middle\" x=\"795\" y=\"-111.8\">samples = 17</text>\n<text fill=\"#000000\" font-family=\"Times,serif\" font-size=\"14.00\" text-anchor=\"middle\" x=\"795\" y=\"-96.8\">value = [1, 16]</text>\n</g>\n<!-- 8&#45;&gt;12 -->\n<g class=\"edge\" id=\"edge12\">\n<title>8-&gt;12</title>\n<path d=\"M664.0512,-196.2187C685.5176,-184.216 710.24,-170.3927 732.3813,-158.0126\" fill=\"none\" stroke=\"#000000\"/>\n<polygon fill=\"#000000\" points=\"734.3506,-160.9215 741.3707,-152.9863 730.9343,-154.8117 734.3506,-160.9215\" stroke=\"#000000\"/>\n</g>\n<!-- 10 -->\n<g class=\"node\" id=\"node11\">\n<title>10</title>\n<polygon fill=\"#d5eafa\" points=\"606,-53 496,-53 496,0 606,0 606,-53\" stroke=\"#000000\"/>\n<text fill=\"#000000\" font-family=\"Times,serif\" font-size=\"14.00\" text-anchor=\"middle\" x=\"551\" y=\"-37.8\">gini = 0.493</text>\n<text fill=\"#000000\" font-family=\"Times,serif\" font-size=\"14.00\" text-anchor=\"middle\" x=\"551\" y=\"-22.8\">samples = 34</text>\n<text fill=\"#000000\" font-family=\"Times,serif\" font-size=\"14.00\" text-anchor=\"middle\" x=\"551\" y=\"-7.8\">value = [15, 19]</text>\n</g>\n<!-- 9&#45;&gt;10 -->\n<g class=\"edge\" id=\"edge10\">\n<title>9-&gt;10</title>\n<path d=\"M588.5514,-88.9777C583.2678,-80.187 577.5684,-70.7044 572.2452,-61.8477\" fill=\"none\" stroke=\"#000000\"/>\n<polygon fill=\"#000000\" points=\"575.2282,-60.0165 567.0768,-53.2485 569.2285,-63.6225 575.2282,-60.0165\" stroke=\"#000000\"/>\n</g>\n<!-- 11 -->\n<g class=\"node\" id=\"node12\">\n<title>11</title>\n<polygon fill=\"#68b4eb\" points=\"726,-53 624,-53 624,0 726,0 726,-53\" stroke=\"#000000\"/>\n<text fill=\"#000000\" font-family=\"Times,serif\" font-size=\"14.00\" text-anchor=\"middle\" x=\"675\" y=\"-37.8\">gini = 0.308</text>\n<text fill=\"#000000\" font-family=\"Times,serif\" font-size=\"14.00\" text-anchor=\"middle\" x=\"675\" y=\"-22.8\">samples = 21</text>\n<text fill=\"#000000\" font-family=\"Times,serif\" font-size=\"14.00\" text-anchor=\"middle\" x=\"675\" y=\"-7.8\">value = [4, 17]</text>\n</g>\n<!-- 9&#45;&gt;11 -->\n<g class=\"edge\" id=\"edge11\">\n<title>9-&gt;11</title>\n<path d=\"M632.2691,-88.9777C638.344,-80.0954 644.9021,-70.5067 651.0135,-61.5711\" fill=\"none\" stroke=\"#000000\"/>\n<polygon fill=\"#000000\" points=\"653.9493,-63.4785 656.7057,-53.2485 648.1714,-59.5267 653.9493,-63.4785\" stroke=\"#000000\"/>\n</g>\n<!-- 13 -->\n<g class=\"node\" id=\"node14\">\n<title>13</title>\n<polygon fill=\"#399de5\" points=\"846,-53 744,-53 744,0 846,0 846,-53\" stroke=\"#000000\"/>\n<text fill=\"#000000\" font-family=\"Times,serif\" font-size=\"14.00\" text-anchor=\"middle\" x=\"795\" y=\"-37.8\">gini = 0.0</text>\n<text fill=\"#000000\" font-family=\"Times,serif\" font-size=\"14.00\" text-anchor=\"middle\" x=\"795\" y=\"-22.8\">samples = 10</text>\n<text fill=\"#000000\" font-family=\"Times,serif\" font-size=\"14.00\" text-anchor=\"middle\" x=\"795\" y=\"-7.8\">value = [0, 10]</text>\n</g>\n<!-- 12&#45;&gt;13 -->\n<g class=\"edge\" id=\"edge13\">\n<title>12-&gt;13</title>\n<path d=\"M795,-88.9777C795,-80.7364 795,-71.887 795,-63.5153\" fill=\"none\" stroke=\"#000000\"/>\n<polygon fill=\"#000000\" points=\"798.5001,-63.2484 795,-53.2485 791.5001,-63.2485 798.5001,-63.2484\" stroke=\"#000000\"/>\n</g>\n<!-- 14 -->\n<g class=\"node\" id=\"node15\">\n<title>14</title>\n<polygon fill=\"#5aade9\" points=\"959.5,-53 864.5,-53 864.5,0 959.5,0 959.5,-53\" stroke=\"#000000\"/>\n<text fill=\"#000000\" font-family=\"Times,serif\" font-size=\"14.00\" text-anchor=\"middle\" x=\"912\" y=\"-37.8\">gini = 0.245</text>\n<text fill=\"#000000\" font-family=\"Times,serif\" font-size=\"14.00\" text-anchor=\"middle\" x=\"912\" y=\"-22.8\">samples = 7</text>\n<text fill=\"#000000\" font-family=\"Times,serif\" font-size=\"14.00\" text-anchor=\"middle\" x=\"912\" y=\"-7.8\">value = [1, 6]</text>\n</g>\n<!-- 12&#45;&gt;14 -->\n<g class=\"edge\" id=\"edge14\">\n<title>12-&gt;14</title>\n<path d=\"M836.2498,-88.9777C847.7961,-79.4545 860.3271,-69.1191 871.811,-59.6473\" fill=\"none\" stroke=\"#000000\"/>\n<polygon fill=\"#000000\" points=\"874.0816,-62.3115 879.5692,-53.2485 869.6276,-56.9113 874.0816,-62.3115\" stroke=\"#000000\"/>\n</g>\n</g>\n</svg>"
          },
          "metadata": {
            "tags": []
          }
        },
        {
          "output_type": "stream",
          "text": [
            "Decision Tree with depth 4\n"
          ],
          "name": "stdout"
        },
        {
          "output_type": "display_data",
          "data": {
            "text/plain": [
              "<IPython.core.display.SVG object>"
            ],
            "image/svg+xml": "<svg height=\"477pt\" viewBox=\"0.00 0.00 1655.50 477.00\" width=\"1656pt\" xmlns=\"http://www.w3.org/2000/svg\" xmlns:xlink=\"http://www.w3.org/1999/xlink\">\n<g class=\"graph\" id=\"graph0\" transform=\"scale(1 1) rotate(0) translate(4 473)\">\n<title>Tree</title>\n<polygon fill=\"#ffffff\" points=\"-4,4 -4,-473 1651.5,-473 1651.5,4 -4,4\" stroke=\"transparent\"/>\n<!-- 0 -->\n<g class=\"node\" id=\"node1\">\n<title>0</title>\n<polygon fill=\"#fcefe6\" points=\"997,-469 887,-469 887,-401 997,-401 997,-469\" stroke=\"#000000\"/>\n<text fill=\"#000000\" font-family=\"Times,serif\" font-size=\"14.00\" text-anchor=\"middle\" x=\"942\" y=\"-453.8\">PC2 &lt;= 4.072</text>\n<text fill=\"#000000\" font-family=\"Times,serif\" font-size=\"14.00\" text-anchor=\"middle\" x=\"942\" y=\"-438.8\">gini = 0.498</text>\n<text fill=\"#000000\" font-family=\"Times,serif\" font-size=\"14.00\" text-anchor=\"middle\" x=\"942\" y=\"-423.8\">samples = 178</text>\n<text fill=\"#000000\" font-family=\"Times,serif\" font-size=\"14.00\" text-anchor=\"middle\" x=\"942\" y=\"-408.8\">value = [95, 83]</text>\n</g>\n<!-- 1 -->\n<g class=\"node\" id=\"node2\">\n<title>1</title>\n<polygon fill=\"#f0b58b\" points=\"760,-365 648,-365 648,-297 760,-297 760,-365\" stroke=\"#000000\"/>\n<text fill=\"#000000\" font-family=\"Times,serif\" font-size=\"14.00\" text-anchor=\"middle\" x=\"704\" y=\"-349.8\">PC2 &lt;= -21.652</text>\n<text fill=\"#000000\" font-family=\"Times,serif\" font-size=\"14.00\" text-anchor=\"middle\" x=\"704\" y=\"-334.8\">gini = 0.414</text>\n<text fill=\"#000000\" font-family=\"Times,serif\" font-size=\"14.00\" text-anchor=\"middle\" x=\"704\" y=\"-319.8\">samples = 106</text>\n<text fill=\"#000000\" font-family=\"Times,serif\" font-size=\"14.00\" text-anchor=\"middle\" x=\"704\" y=\"-304.8\">value = [75, 31]</text>\n</g>\n<!-- 0&#45;&gt;1 -->\n<g class=\"edge\" id=\"edge1\">\n<title>0-&gt;1</title>\n<path d=\"M886.7998,-410.8789C851.734,-395.556 806.1747,-375.6478 769.3118,-359.5396\" fill=\"none\" stroke=\"#000000\"/>\n<polygon fill=\"#000000\" points=\"770.7038,-356.3283 760.1389,-355.5313 767.9008,-362.7427 770.7038,-356.3283\" stroke=\"#000000\"/>\n<text fill=\"#000000\" font-family=\"Times,serif\" font-size=\"14.00\" text-anchor=\"middle\" x=\"769.2592\" y=\"-375.1084\">True</text>\n</g>\n<!-- 16 -->\n<g class=\"node\" id=\"node17\">\n<title>16</title>\n<polygon fill=\"#85c3ef\" points=\"1238,-365 1128,-365 1128,-297 1238,-297 1238,-365\" stroke=\"#000000\"/>\n<text fill=\"#000000\" font-family=\"Times,serif\" font-size=\"14.00\" text-anchor=\"middle\" x=\"1183\" y=\"-349.8\">PC1 &lt;= 27.563</text>\n<text fill=\"#000000\" font-family=\"Times,serif\" font-size=\"14.00\" text-anchor=\"middle\" x=\"1183\" y=\"-334.8\">gini = 0.401</text>\n<text fill=\"#000000\" font-family=\"Times,serif\" font-size=\"14.00\" text-anchor=\"middle\" x=\"1183\" y=\"-319.8\">samples = 72</text>\n<text fill=\"#000000\" font-family=\"Times,serif\" font-size=\"14.00\" text-anchor=\"middle\" x=\"1183\" y=\"-304.8\">value = [20, 52]</text>\n</g>\n<!-- 0&#45;&gt;16 -->\n<g class=\"edge\" id=\"edge16\">\n<title>0-&gt;16</title>\n<path d=\"M997.2903,-411.1403C1033.4175,-395.5501 1080.7356,-375.1307 1118.5661,-358.8055\" fill=\"none\" stroke=\"#000000\"/>\n<polygon fill=\"#000000\" points=\"1120.1722,-361.9245 1127.967,-354.7487 1117.3986,-355.4974 1120.1722,-361.9245\" stroke=\"#000000\"/>\n<text fill=\"#000000\" font-family=\"Times,serif\" font-size=\"14.00\" text-anchor=\"middle\" x=\"1118.7403\" y=\"-374.2837\">False</text>\n</g>\n<!-- 2 -->\n<g class=\"node\" id=\"node3\">\n<title>2</title>\n<polygon fill=\"#e99355\" points=\"404,-261 292,-261 292,-193 404,-193 404,-261\" stroke=\"#000000\"/>\n<text fill=\"#000000\" font-family=\"Times,serif\" font-size=\"14.00\" text-anchor=\"middle\" x=\"348\" y=\"-245.8\">PC2 &lt;= -29.589</text>\n<text fill=\"#000000\" font-family=\"Times,serif\" font-size=\"14.00\" text-anchor=\"middle\" x=\"348\" y=\"-230.8\">gini = 0.219</text>\n<text fill=\"#000000\" font-family=\"Times,serif\" font-size=\"14.00\" text-anchor=\"middle\" x=\"348\" y=\"-215.8\">samples = 32</text>\n<text fill=\"#000000\" font-family=\"Times,serif\" font-size=\"14.00\" text-anchor=\"middle\" x=\"348\" y=\"-200.8\">value = [28, 4]</text>\n</g>\n<!-- 1&#45;&gt;2 -->\n<g class=\"edge\" id=\"edge2\">\n<title>1-&gt;2</title>\n<path d=\"M647.9834,-314.6356C584.5288,-296.0983 481.2242,-265.9194 413.9348,-246.2619\" fill=\"none\" stroke=\"#000000\"/>\n<polygon fill=\"#000000\" points=\"414.8575,-242.8852 404.2772,-243.4405 412.8946,-249.6043 414.8575,-242.8852\" stroke=\"#000000\"/>\n</g>\n<!-- 9 -->\n<g class=\"node\" id=\"node10\">\n<title>9</title>\n<polygon fill=\"#f4c9ab\" points=\"759,-261 649,-261 649,-193 759,-193 759,-261\" stroke=\"#000000\"/>\n<text fill=\"#000000\" font-family=\"Times,serif\" font-size=\"14.00\" text-anchor=\"middle\" x=\"704\" y=\"-245.8\">PC1 &lt;= -2.494</text>\n<text fill=\"#000000\" font-family=\"Times,serif\" font-size=\"14.00\" text-anchor=\"middle\" x=\"704\" y=\"-230.8\">gini = 0.463</text>\n<text fill=\"#000000\" font-family=\"Times,serif\" font-size=\"14.00\" text-anchor=\"middle\" x=\"704\" y=\"-215.8\">samples = 74</text>\n<text fill=\"#000000\" font-family=\"Times,serif\" font-size=\"14.00\" text-anchor=\"middle\" x=\"704\" y=\"-200.8\">value = [47, 27]</text>\n</g>\n<!-- 1&#45;&gt;9 -->\n<g class=\"edge\" id=\"edge9\">\n<title>1-&gt;9</title>\n<path d=\"M704,-296.9465C704,-288.776 704,-279.9318 704,-271.3697\" fill=\"none\" stroke=\"#000000\"/>\n<polygon fill=\"#000000\" points=\"707.5001,-271.13 704,-261.13 700.5001,-271.13 707.5001,-271.13\" stroke=\"#000000\"/>\n</g>\n<!-- 3 -->\n<g class=\"node\" id=\"node4\">\n<title>3</title>\n<polygon fill=\"#eda774\" points=\"224,-157 112,-157 112,-89 224,-89 224,-157\" stroke=\"#000000\"/>\n<text fill=\"#000000\" font-family=\"Times,serif\" font-size=\"14.00\" text-anchor=\"middle\" x=\"168\" y=\"-141.8\">PC2 &lt;= -30.476</text>\n<text fill=\"#000000\" font-family=\"Times,serif\" font-size=\"14.00\" text-anchor=\"middle\" x=\"168\" y=\"-126.8\">gini = 0.355</text>\n<text fill=\"#000000\" font-family=\"Times,serif\" font-size=\"14.00\" text-anchor=\"middle\" x=\"168\" y=\"-111.8\">samples = 13</text>\n<text fill=\"#000000\" font-family=\"Times,serif\" font-size=\"14.00\" text-anchor=\"middle\" x=\"168\" y=\"-96.8\">value = [10, 3]</text>\n</g>\n<!-- 2&#45;&gt;3 -->\n<g class=\"edge\" id=\"edge3\">\n<title>2-&gt;3</title>\n<path d=\"M291.5407,-194.3791C272.9438,-183.6342 252.1172,-171.601 232.94,-160.5209\" fill=\"none\" stroke=\"#000000\"/>\n<polygon fill=\"#000000\" points=\"234.6686,-157.4774 224.2589,-155.5052 231.1666,-163.5385 234.6686,-157.4774\" stroke=\"#000000\"/>\n</g>\n<!-- 6 -->\n<g class=\"node\" id=\"node7\">\n<title>6</title>\n<polygon fill=\"#e68844\" points=\"400,-157 296,-157 296,-89 400,-89 400,-157\" stroke=\"#000000\"/>\n<text fill=\"#000000\" font-family=\"Times,serif\" font-size=\"14.00\" text-anchor=\"middle\" x=\"348\" y=\"-141.8\">PC2 &lt;= -23.74</text>\n<text fill=\"#000000\" font-family=\"Times,serif\" font-size=\"14.00\" text-anchor=\"middle\" x=\"348\" y=\"-126.8\">gini = 0.1</text>\n<text fill=\"#000000\" font-family=\"Times,serif\" font-size=\"14.00\" text-anchor=\"middle\" x=\"348\" y=\"-111.8\">samples = 19</text>\n<text fill=\"#000000\" font-family=\"Times,serif\" font-size=\"14.00\" text-anchor=\"middle\" x=\"348\" y=\"-96.8\">value = [18, 1]</text>\n</g>\n<!-- 2&#45;&gt;6 -->\n<g class=\"edge\" id=\"edge6\">\n<title>2-&gt;6</title>\n<path d=\"M348,-192.9465C348,-184.776 348,-175.9318 348,-167.3697\" fill=\"none\" stroke=\"#000000\"/>\n<polygon fill=\"#000000\" points=\"351.5001,-167.13 348,-157.13 344.5001,-167.13 351.5001,-167.13\" stroke=\"#000000\"/>\n</g>\n<!-- 4 -->\n<g class=\"node\" id=\"node5\">\n<title>4</title>\n<polygon fill=\"#ea9a61\" points=\"102,-53 0,-53 0,0 102,0 102,-53\" stroke=\"#000000\"/>\n<text fill=\"#000000\" font-family=\"Times,serif\" font-size=\"14.00\" text-anchor=\"middle\" x=\"51\" y=\"-37.8\">gini = 0.278</text>\n<text fill=\"#000000\" font-family=\"Times,serif\" font-size=\"14.00\" text-anchor=\"middle\" x=\"51\" y=\"-22.8\">samples = 12</text>\n<text fill=\"#000000\" font-family=\"Times,serif\" font-size=\"14.00\" text-anchor=\"middle\" x=\"51\" y=\"-7.8\">value = [10, 2]</text>\n</g>\n<!-- 3&#45;&gt;4 -->\n<g class=\"edge\" id=\"edge4\">\n<title>3-&gt;4</title>\n<path d=\"M126.7502,-88.9777C115.2039,-79.4545 102.6729,-69.1191 91.189,-59.6473\" fill=\"none\" stroke=\"#000000\"/>\n<polygon fill=\"#000000\" points=\"93.3724,-56.9113 83.4308,-53.2485 88.9184,-62.3115 93.3724,-56.9113\" stroke=\"#000000\"/>\n</g>\n<!-- 5 -->\n<g class=\"node\" id=\"node6\">\n<title>5</title>\n<polygon fill=\"#399de5\" points=\"215.5,-53 120.5,-53 120.5,0 215.5,0 215.5,-53\" stroke=\"#000000\"/>\n<text fill=\"#000000\" font-family=\"Times,serif\" font-size=\"14.00\" text-anchor=\"middle\" x=\"168\" y=\"-37.8\">gini = 0.0</text>\n<text fill=\"#000000\" font-family=\"Times,serif\" font-size=\"14.00\" text-anchor=\"middle\" x=\"168\" y=\"-22.8\">samples = 1</text>\n<text fill=\"#000000\" font-family=\"Times,serif\" font-size=\"14.00\" text-anchor=\"middle\" x=\"168\" y=\"-7.8\">value = [0, 1]</text>\n</g>\n<!-- 3&#45;&gt;5 -->\n<g class=\"edge\" id=\"edge5\">\n<title>3-&gt;5</title>\n<path d=\"M168,-88.9777C168,-80.7364 168,-71.887 168,-63.5153\" fill=\"none\" stroke=\"#000000\"/>\n<polygon fill=\"#000000\" points=\"171.5001,-63.2484 168,-53.2485 164.5001,-63.2485 171.5001,-63.2484\" stroke=\"#000000\"/>\n</g>\n<!-- 7 -->\n<g class=\"node\" id=\"node8\">\n<title>7</title>\n<polygon fill=\"#e58139\" points=\"336,-53 234,-53 234,0 336,0 336,-53\" stroke=\"#000000\"/>\n<text fill=\"#000000\" font-family=\"Times,serif\" font-size=\"14.00\" text-anchor=\"middle\" x=\"285\" y=\"-37.8\">gini = 0.0</text>\n<text fill=\"#000000\" font-family=\"Times,serif\" font-size=\"14.00\" text-anchor=\"middle\" x=\"285\" y=\"-22.8\">samples = 14</text>\n<text fill=\"#000000\" font-family=\"Times,serif\" font-size=\"14.00\" text-anchor=\"middle\" x=\"285\" y=\"-7.8\">value = [14, 0]</text>\n</g>\n<!-- 6&#45;&gt;7 -->\n<g class=\"edge\" id=\"edge7\">\n<title>6-&gt;7</title>\n<path d=\"M325.7886,-88.9777C320.0496,-80.187 313.8588,-70.7044 308.0767,-61.8477\" fill=\"none\" stroke=\"#000000\"/>\n<polygon fill=\"#000000\" points=\"310.8602,-59.7087 302.4627,-53.2485 304.9987,-63.5354 310.8602,-59.7087\" stroke=\"#000000\"/>\n</g>\n<!-- 8 -->\n<g class=\"node\" id=\"node9\">\n<title>8</title>\n<polygon fill=\"#eca06a\" points=\"449.5,-53 354.5,-53 354.5,0 449.5,0 449.5,-53\" stroke=\"#000000\"/>\n<text fill=\"#000000\" font-family=\"Times,serif\" font-size=\"14.00\" text-anchor=\"middle\" x=\"402\" y=\"-37.8\">gini = 0.32</text>\n<text fill=\"#000000\" font-family=\"Times,serif\" font-size=\"14.00\" text-anchor=\"middle\" x=\"402\" y=\"-22.8\">samples = 5</text>\n<text fill=\"#000000\" font-family=\"Times,serif\" font-size=\"14.00\" text-anchor=\"middle\" x=\"402\" y=\"-7.8\">value = [4, 1]</text>\n</g>\n<!-- 6&#45;&gt;8 -->\n<g class=\"edge\" id=\"edge8\">\n<title>6-&gt;8</title>\n<path d=\"M367.0384,-88.9777C371.9063,-80.2786 377.1534,-70.9018 382.065,-62.1247\" fill=\"none\" stroke=\"#000000\"/>\n<polygon fill=\"#000000\" points=\"385.2029,-63.6843 387.0319,-53.2485 379.0943,-60.2659 385.2029,-63.6843\" stroke=\"#000000\"/>\n</g>\n<!-- 10 -->\n<g class=\"node\" id=\"node11\">\n<title>10</title>\n<polygon fill=\"#f0b48a\" points=\"696,-157 584,-157 584,-89 696,-89 696,-157\" stroke=\"#000000\"/>\n<text fill=\"#000000\" font-family=\"Times,serif\" font-size=\"14.00\" text-anchor=\"middle\" x=\"640\" y=\"-141.8\">PC1 &lt;= -13.709</text>\n<text fill=\"#000000\" font-family=\"Times,serif\" font-size=\"14.00\" text-anchor=\"middle\" x=\"640\" y=\"-126.8\">gini = 0.411</text>\n<text fill=\"#000000\" font-family=\"Times,serif\" font-size=\"14.00\" text-anchor=\"middle\" x=\"640\" y=\"-111.8\">samples = 38</text>\n<text fill=\"#000000\" font-family=\"Times,serif\" font-size=\"14.00\" text-anchor=\"middle\" x=\"640\" y=\"-96.8\">value = [27, 11]</text>\n</g>\n<!-- 9&#45;&gt;10 -->\n<g class=\"edge\" id=\"edge10\">\n<title>9-&gt;10</title>\n<path d=\"M683.044,-192.9465C677.6845,-184.2373 671.8539,-174.7626 666.2647,-165.6801\" fill=\"none\" stroke=\"#000000\"/>\n<polygon fill=\"#000000\" points=\"669.2249,-163.8122 661.0031,-157.13 663.2633,-167.481 669.2249,-163.8122\" stroke=\"#000000\"/>\n</g>\n<!-- 13 -->\n<g class=\"node\" id=\"node14\">\n<title>13</title>\n<polygon fill=\"#fae6d7\" points=\"824,-157 714,-157 714,-89 824,-89 824,-157\" stroke=\"#000000\"/>\n<text fill=\"#000000\" font-family=\"Times,serif\" font-size=\"14.00\" text-anchor=\"middle\" x=\"769\" y=\"-141.8\">PC1 &lt;= 0.015</text>\n<text fill=\"#000000\" font-family=\"Times,serif\" font-size=\"14.00\" text-anchor=\"middle\" x=\"769\" y=\"-126.8\">gini = 0.494</text>\n<text fill=\"#000000\" font-family=\"Times,serif\" font-size=\"14.00\" text-anchor=\"middle\" x=\"769\" y=\"-111.8\">samples = 36</text>\n<text fill=\"#000000\" font-family=\"Times,serif\" font-size=\"14.00\" text-anchor=\"middle\" x=\"769\" y=\"-96.8\">value = [20, 16]</text>\n</g>\n<!-- 9&#45;&gt;13 -->\n<g class=\"edge\" id=\"edge13\">\n<title>9-&gt;13</title>\n<path d=\"M725.2834,-192.9465C730.7267,-184.2373 736.6484,-174.7626 742.325,-165.6801\" fill=\"none\" stroke=\"#000000\"/>\n<polygon fill=\"#000000\" points=\"745.3367,-167.465 747.6688,-157.13 739.4007,-163.755 745.3367,-167.465\" stroke=\"#000000\"/>\n</g>\n<!-- 11 -->\n<g class=\"node\" id=\"node12\">\n<title>11</title>\n<polygon fill=\"#f6d3b9\" points=\"576.5,-53 467.5,-53 467.5,0 576.5,0 576.5,-53\" stroke=\"#000000\"/>\n<text fill=\"#000000\" font-family=\"Times,serif\" font-size=\"14.00\" text-anchor=\"middle\" x=\"522\" y=\"-37.8\">gini = 0.477</text>\n<text fill=\"#000000\" font-family=\"Times,serif\" font-size=\"14.00\" text-anchor=\"middle\" x=\"522\" y=\"-22.8\">samples = 28</text>\n<text fill=\"#000000\" font-family=\"Times,serif\" font-size=\"14.00\" text-anchor=\"middle\" x=\"522\" y=\"-7.8\">value = [17, 11]</text>\n</g>\n<!-- 10&#45;&gt;11 -->\n<g class=\"edge\" id=\"edge11\">\n<title>10-&gt;11</title>\n<path d=\"M598.3976,-88.9777C586.7526,-79.4545 574.1146,-69.1191 562.5325,-59.6473\" fill=\"none\" stroke=\"#000000\"/>\n<polygon fill=\"#000000\" points=\"564.6648,-56.8697 554.708,-53.2485 560.2333,-62.2885 564.6648,-56.8697\" stroke=\"#000000\"/>\n</g>\n<!-- 12 -->\n<g class=\"node\" id=\"node13\">\n<title>12</title>\n<polygon fill=\"#e58139\" points=\"697,-53 595,-53 595,0 697,0 697,-53\" stroke=\"#000000\"/>\n<text fill=\"#000000\" font-family=\"Times,serif\" font-size=\"14.00\" text-anchor=\"middle\" x=\"646\" y=\"-37.8\">gini = 0.0</text>\n<text fill=\"#000000\" font-family=\"Times,serif\" font-size=\"14.00\" text-anchor=\"middle\" x=\"646\" y=\"-22.8\">samples = 10</text>\n<text fill=\"#000000\" font-family=\"Times,serif\" font-size=\"14.00\" text-anchor=\"middle\" x=\"646\" y=\"-7.8\">value = [10, 0]</text>\n</g>\n<!-- 10&#45;&gt;12 -->\n<g class=\"edge\" id=\"edge12\">\n<title>10-&gt;12</title>\n<path d=\"M642.1154,-88.9777C642.6335,-80.6449 643.1902,-71.6903 643.7159,-63.2364\" fill=\"none\" stroke=\"#000000\"/>\n<polygon fill=\"#000000\" points=\"647.2095,-63.4464 644.3369,-53.2485 640.223,-63.012 647.2095,-63.4464\" stroke=\"#000000\"/>\n</g>\n<!-- 14 -->\n<g class=\"node\" id=\"node15\">\n<title>14</title>\n<polygon fill=\"#399de5\" points=\"810.5,-53 715.5,-53 715.5,0 810.5,0 810.5,-53\" stroke=\"#000000\"/>\n<text fill=\"#000000\" font-family=\"Times,serif\" font-size=\"14.00\" text-anchor=\"middle\" x=\"763\" y=\"-37.8\">gini = 0.0</text>\n<text fill=\"#000000\" font-family=\"Times,serif\" font-size=\"14.00\" text-anchor=\"middle\" x=\"763\" y=\"-22.8\">samples = 2</text>\n<text fill=\"#000000\" font-family=\"Times,serif\" font-size=\"14.00\" text-anchor=\"middle\" x=\"763\" y=\"-7.8\">value = [0, 2]</text>\n</g>\n<!-- 13&#45;&gt;14 -->\n<g class=\"edge\" id=\"edge14\">\n<title>13-&gt;14</title>\n<path d=\"M766.8846,-88.9777C766.3665,-80.6449 765.8098,-71.6903 765.2841,-63.2364\" fill=\"none\" stroke=\"#000000\"/>\n<polygon fill=\"#000000\" points=\"768.777,-63.012 764.6631,-53.2485 761.7905,-63.4464 768.777,-63.012\" stroke=\"#000000\"/>\n</g>\n<!-- 15 -->\n<g class=\"node\" id=\"node16\">\n<title>15</title>\n<polygon fill=\"#f7d9c4\" points=\"939,-53 829,-53 829,0 939,0 939,-53\" stroke=\"#000000\"/>\n<text fill=\"#000000\" font-family=\"Times,serif\" font-size=\"14.00\" text-anchor=\"middle\" x=\"884\" y=\"-37.8\">gini = 0.484</text>\n<text fill=\"#000000\" font-family=\"Times,serif\" font-size=\"14.00\" text-anchor=\"middle\" x=\"884\" y=\"-22.8\">samples = 34</text>\n<text fill=\"#000000\" font-family=\"Times,serif\" font-size=\"14.00\" text-anchor=\"middle\" x=\"884\" y=\"-7.8\">value = [20, 14]</text>\n</g>\n<!-- 13&#45;&gt;15 -->\n<g class=\"edge\" id=\"edge15\">\n<title>13-&gt;15</title>\n<path d=\"M809.5447,-88.9777C820.7845,-79.546 832.9736,-69.3178 844.1721,-59.9208\" fill=\"none\" stroke=\"#000000\"/>\n<polygon fill=\"#000000\" points=\"846.713,-62.3576 852.1236,-53.2485 842.2134,-56.9954 846.713,-62.3576\" stroke=\"#000000\"/>\n</g>\n<!-- 17 -->\n<g class=\"node\" id=\"node18\">\n<title>17</title>\n<polygon fill=\"#a2d1f3\" points=\"1238,-261 1128,-261 1128,-193 1238,-193 1238,-261\" stroke=\"#000000\"/>\n<text fill=\"#000000\" font-family=\"Times,serif\" font-size=\"14.00\" text-anchor=\"middle\" x=\"1183\" y=\"-245.8\">PC2 &lt;= 26.335</text>\n<text fill=\"#000000\" font-family=\"Times,serif\" font-size=\"14.00\" text-anchor=\"middle\" x=\"1183\" y=\"-230.8\">gini = 0.452</text>\n<text fill=\"#000000\" font-family=\"Times,serif\" font-size=\"14.00\" text-anchor=\"middle\" x=\"1183\" y=\"-215.8\">samples = 55</text>\n<text fill=\"#000000\" font-family=\"Times,serif\" font-size=\"14.00\" text-anchor=\"middle\" x=\"1183\" y=\"-200.8\">value = [19, 36]</text>\n</g>\n<!-- 16&#45;&gt;17 -->\n<g class=\"edge\" id=\"edge17\">\n<title>16-&gt;17</title>\n<path d=\"M1183,-296.9465C1183,-288.776 1183,-279.9318 1183,-271.3697\" fill=\"none\" stroke=\"#000000\"/>\n<polygon fill=\"#000000\" points=\"1186.5001,-271.13 1183,-261.13 1179.5001,-271.13 1186.5001,-271.13\" stroke=\"#000000\"/>\n</g>\n<!-- 24 -->\n<g class=\"node\" id=\"node25\">\n<title>24</title>\n<polygon fill=\"#45a3e7\" points=\"1425.5,-261 1318.5,-261 1318.5,-193 1425.5,-193 1425.5,-261\" stroke=\"#000000\"/>\n<text fill=\"#000000\" font-family=\"Times,serif\" font-size=\"14.00\" text-anchor=\"middle\" x=\"1372\" y=\"-245.8\">PC1 &lt;= 53.146</text>\n<text fill=\"#000000\" font-family=\"Times,serif\" font-size=\"14.00\" text-anchor=\"middle\" x=\"1372\" y=\"-230.8\">gini = 0.111</text>\n<text fill=\"#000000\" font-family=\"Times,serif\" font-size=\"14.00\" text-anchor=\"middle\" x=\"1372\" y=\"-215.8\">samples = 17</text>\n<text fill=\"#000000\" font-family=\"Times,serif\" font-size=\"14.00\" text-anchor=\"middle\" x=\"1372\" y=\"-200.8\">value = [1, 16]</text>\n</g>\n<!-- 16&#45;&gt;24 -->\n<g class=\"edge\" id=\"edge24\">\n<title>16-&gt;24</title>\n<path d=\"M1238.1747,-300.6393C1260.4904,-288.3598 1286.3672,-274.1207 1309.3849,-261.4548\" fill=\"none\" stroke=\"#000000\"/>\n<polygon fill=\"#000000\" points=\"1311.3113,-264.3898 1318.3852,-256.5023 1307.9366,-258.2569 1311.3113,-264.3898\" stroke=\"#000000\"/>\n</g>\n<!-- 18 -->\n<g class=\"node\" id=\"node19\">\n<title>18</title>\n<polygon fill=\"#d5eafa\" points=\"1177,-157 1067,-157 1067,-89 1177,-89 1177,-157\" stroke=\"#000000\"/>\n<text fill=\"#000000\" font-family=\"Times,serif\" font-size=\"14.00\" text-anchor=\"middle\" x=\"1122\" y=\"-141.8\">PC1 &lt;= 13.983</text>\n<text fill=\"#000000\" font-family=\"Times,serif\" font-size=\"14.00\" text-anchor=\"middle\" x=\"1122\" y=\"-126.8\">gini = 0.493</text>\n<text fill=\"#000000\" font-family=\"Times,serif\" font-size=\"14.00\" text-anchor=\"middle\" x=\"1122\" y=\"-111.8\">samples = 34</text>\n<text fill=\"#000000\" font-family=\"Times,serif\" font-size=\"14.00\" text-anchor=\"middle\" x=\"1122\" y=\"-96.8\">value = [15, 19]</text>\n</g>\n<!-- 17&#45;&gt;18 -->\n<g class=\"edge\" id=\"edge18\">\n<title>17-&gt;18</title>\n<path d=\"M1163.0263,-192.9465C1157.9707,-184.3271 1152.4753,-174.9579 1147.1983,-165.9611\" fill=\"none\" stroke=\"#000000\"/>\n<polygon fill=\"#000000\" points=\"1150.0969,-163.985 1142.0186,-157.13 1144.0589,-167.5265 1150.0969,-163.985\" stroke=\"#000000\"/>\n</g>\n<!-- 21 -->\n<g class=\"node\" id=\"node22\">\n<title>21</title>\n<polygon fill=\"#68b4eb\" points=\"1302.5,-157 1195.5,-157 1195.5,-89 1302.5,-89 1302.5,-157\" stroke=\"#000000\"/>\n<text fill=\"#000000\" font-family=\"Times,serif\" font-size=\"14.00\" text-anchor=\"middle\" x=\"1249\" y=\"-141.8\">PC2 &lt;= 38.744</text>\n<text fill=\"#000000\" font-family=\"Times,serif\" font-size=\"14.00\" text-anchor=\"middle\" x=\"1249\" y=\"-126.8\">gini = 0.308</text>\n<text fill=\"#000000\" font-family=\"Times,serif\" font-size=\"14.00\" text-anchor=\"middle\" x=\"1249\" y=\"-111.8\">samples = 21</text>\n<text fill=\"#000000\" font-family=\"Times,serif\" font-size=\"14.00\" text-anchor=\"middle\" x=\"1249\" y=\"-96.8\">value = [4, 17]</text>\n</g>\n<!-- 17&#45;&gt;21 -->\n<g class=\"edge\" id=\"edge21\">\n<title>17-&gt;21</title>\n<path d=\"M1204.6109,-192.9465C1210.1378,-184.2373 1216.1506,-174.7626 1221.9146,-165.6801\" fill=\"none\" stroke=\"#000000\"/>\n<polygon fill=\"#000000\" points=\"1224.9374,-167.4487 1227.3406,-157.13 1219.0271,-163.6979 1224.9374,-167.4487\" stroke=\"#000000\"/>\n</g>\n<!-- 19 -->\n<g class=\"node\" id=\"node20\">\n<title>19</title>\n<polygon fill=\"#a1d1f3\" points=\"1067,-53 957,-53 957,0 1067,0 1067,-53\" stroke=\"#000000\"/>\n<text fill=\"#000000\" font-family=\"Times,serif\" font-size=\"14.00\" text-anchor=\"middle\" x=\"1012\" y=\"-37.8\">gini = 0.452</text>\n<text fill=\"#000000\" font-family=\"Times,serif\" font-size=\"14.00\" text-anchor=\"middle\" x=\"1012\" y=\"-22.8\">samples = 29</text>\n<text fill=\"#000000\" font-family=\"Times,serif\" font-size=\"14.00\" text-anchor=\"middle\" x=\"1012\" y=\"-7.8\">value = [10, 19]</text>\n</g>\n<!-- 18&#45;&gt;19 -->\n<g class=\"edge\" id=\"edge19\">\n<title>18-&gt;19</title>\n<path d=\"M1083.2181,-88.9777C1072.467,-79.546 1060.8078,-69.3178 1050.0962,-59.9208\" fill=\"none\" stroke=\"#000000\"/>\n<polygon fill=\"#000000\" points=\"1052.316,-57.2122 1042.4905,-53.2485 1047.6996,-62.4743 1052.316,-57.2122\" stroke=\"#000000\"/>\n</g>\n<!-- 20 -->\n<g class=\"node\" id=\"node21\">\n<title>20</title>\n<polygon fill=\"#e58139\" points=\"1180.5,-53 1085.5,-53 1085.5,0 1180.5,0 1180.5,-53\" stroke=\"#000000\"/>\n<text fill=\"#000000\" font-family=\"Times,serif\" font-size=\"14.00\" text-anchor=\"middle\" x=\"1133\" y=\"-37.8\">gini = 0.0</text>\n<text fill=\"#000000\" font-family=\"Times,serif\" font-size=\"14.00\" text-anchor=\"middle\" x=\"1133\" y=\"-22.8\">samples = 5</text>\n<text fill=\"#000000\" font-family=\"Times,serif\" font-size=\"14.00\" text-anchor=\"middle\" x=\"1133\" y=\"-7.8\">value = [5, 0]</text>\n</g>\n<!-- 18&#45;&gt;20 -->\n<g class=\"edge\" id=\"edge20\">\n<title>18-&gt;20</title>\n<path d=\"M1125.8782,-88.9777C1126.828,-80.6449 1127.8488,-71.6903 1128.8124,-63.2364\" fill=\"none\" stroke=\"#000000\"/>\n<polygon fill=\"#000000\" points=\"1132.2958,-63.5806 1129.951,-53.2485 1125.3408,-62.7877 1132.2958,-63.5806\" stroke=\"#000000\"/>\n</g>\n<!-- 22 -->\n<g class=\"node\" id=\"node23\">\n<title>22</title>\n<polygon fill=\"#399de5\" points=\"1299.5,-53 1198.5,-53 1198.5,0 1299.5,0 1299.5,-53\" stroke=\"#000000\"/>\n<text fill=\"#000000\" font-family=\"Times,serif\" font-size=\"14.00\" text-anchor=\"middle\" x=\"1249\" y=\"-37.8\">gini = 0.0</text>\n<text fill=\"#000000\" font-family=\"Times,serif\" font-size=\"14.00\" text-anchor=\"middle\" x=\"1249\" y=\"-22.8\">samples = 11</text>\n<text fill=\"#000000\" font-family=\"Times,serif\" font-size=\"14.00\" text-anchor=\"middle\" x=\"1249\" y=\"-7.8\">value = [0, 11]</text>\n</g>\n<!-- 21&#45;&gt;22 -->\n<g class=\"edge\" id=\"edge22\">\n<title>21-&gt;22</title>\n<path d=\"M1249,-88.9777C1249,-80.7364 1249,-71.887 1249,-63.5153\" fill=\"none\" stroke=\"#000000\"/>\n<polygon fill=\"#000000\" points=\"1252.5001,-63.2484 1249,-53.2485 1245.5001,-63.2485 1252.5001,-63.2484\" stroke=\"#000000\"/>\n</g>\n<!-- 23 -->\n<g class=\"node\" id=\"node24\">\n<title>23</title>\n<polygon fill=\"#bddef6\" points=\"1412.5,-53 1317.5,-53 1317.5,0 1412.5,0 1412.5,-53\" stroke=\"#000000\"/>\n<text fill=\"#000000\" font-family=\"Times,serif\" font-size=\"14.00\" text-anchor=\"middle\" x=\"1365\" y=\"-37.8\">gini = 0.48</text>\n<text fill=\"#000000\" font-family=\"Times,serif\" font-size=\"14.00\" text-anchor=\"middle\" x=\"1365\" y=\"-22.8\">samples = 10</text>\n<text fill=\"#000000\" font-family=\"Times,serif\" font-size=\"14.00\" text-anchor=\"middle\" x=\"1365\" y=\"-7.8\">value = [4, 6]</text>\n</g>\n<!-- 21&#45;&gt;23 -->\n<g class=\"edge\" id=\"edge23\">\n<title>21-&gt;23</title>\n<path d=\"M1289.8973,-88.9777C1301.3449,-79.4545 1313.7687,-69.1191 1325.1545,-59.6473\" fill=\"none\" stroke=\"#000000\"/>\n<polygon fill=\"#000000\" points=\"1327.3971,-62.3345 1332.8464,-53.2485 1322.9203,-56.9532 1327.3971,-62.3345\" stroke=\"#000000\"/>\n</g>\n<!-- 25 -->\n<g class=\"node\" id=\"node26\">\n<title>25</title>\n<polygon fill=\"#399de5\" points=\"1423,-149.5 1321,-149.5 1321,-96.5 1423,-96.5 1423,-149.5\" stroke=\"#000000\"/>\n<text fill=\"#000000\" font-family=\"Times,serif\" font-size=\"14.00\" text-anchor=\"middle\" x=\"1372\" y=\"-134.3\">gini = 0.0</text>\n<text fill=\"#000000\" font-family=\"Times,serif\" font-size=\"14.00\" text-anchor=\"middle\" x=\"1372\" y=\"-119.3\">samples = 10</text>\n<text fill=\"#000000\" font-family=\"Times,serif\" font-size=\"14.00\" text-anchor=\"middle\" x=\"1372\" y=\"-104.3\">value = [0, 10]</text>\n</g>\n<!-- 24&#45;&gt;25 -->\n<g class=\"edge\" id=\"edge25\">\n<title>24-&gt;25</title>\n<path d=\"M1372,-192.9465C1372,-182.2621 1372,-170.4254 1372,-159.5742\" fill=\"none\" stroke=\"#000000\"/>\n<polygon fill=\"#000000\" points=\"1375.5001,-159.5421 1372,-149.5422 1368.5001,-159.5422 1375.5001,-159.5421\" stroke=\"#000000\"/>\n</g>\n<!-- 26 -->\n<g class=\"node\" id=\"node27\">\n<title>26</title>\n<polygon fill=\"#5aade9\" points=\"1548.5,-157 1441.5,-157 1441.5,-89 1548.5,-89 1548.5,-157\" stroke=\"#000000\"/>\n<text fill=\"#000000\" font-family=\"Times,serif\" font-size=\"14.00\" text-anchor=\"middle\" x=\"1495\" y=\"-141.8\">PC1 &lt;= 56.593</text>\n<text fill=\"#000000\" font-family=\"Times,serif\" font-size=\"14.00\" text-anchor=\"middle\" x=\"1495\" y=\"-126.8\">gini = 0.245</text>\n<text fill=\"#000000\" font-family=\"Times,serif\" font-size=\"14.00\" text-anchor=\"middle\" x=\"1495\" y=\"-111.8\">samples = 7</text>\n<text fill=\"#000000\" font-family=\"Times,serif\" font-size=\"14.00\" text-anchor=\"middle\" x=\"1495\" y=\"-96.8\">value = [1, 6]</text>\n</g>\n<!-- 24&#45;&gt;26 -->\n<g class=\"edge\" id=\"edge26\">\n<title>24-&gt;26</title>\n<path d=\"M1412.2748,-192.9465C1423.3184,-183.6088 1435.4028,-173.3911 1446.8404,-163.7203\" fill=\"none\" stroke=\"#000000\"/>\n<polygon fill=\"#000000\" points=\"1449.2583,-166.2594 1454.6347,-157.13 1444.7386,-160.914 1449.2583,-166.2594\" stroke=\"#000000\"/>\n</g>\n<!-- 27 -->\n<g class=\"node\" id=\"node28\">\n<title>27</title>\n<polygon fill=\"#e58139\" points=\"1534.5,-53 1439.5,-53 1439.5,0 1534.5,0 1534.5,-53\" stroke=\"#000000\"/>\n<text fill=\"#000000\" font-family=\"Times,serif\" font-size=\"14.00\" text-anchor=\"middle\" x=\"1487\" y=\"-37.8\">gini = 0.0</text>\n<text fill=\"#000000\" font-family=\"Times,serif\" font-size=\"14.00\" text-anchor=\"middle\" x=\"1487\" y=\"-22.8\">samples = 1</text>\n<text fill=\"#000000\" font-family=\"Times,serif\" font-size=\"14.00\" text-anchor=\"middle\" x=\"1487\" y=\"-7.8\">value = [1, 0]</text>\n</g>\n<!-- 26&#45;&gt;27 -->\n<g class=\"edge\" id=\"edge27\">\n<title>26-&gt;27</title>\n<path d=\"M1492.1795,-88.9777C1491.4887,-80.6449 1490.7463,-71.6903 1490.0455,-63.2364\" fill=\"none\" stroke=\"#000000\"/>\n<polygon fill=\"#000000\" points=\"1493.5318,-62.9251 1489.2175,-53.2485 1486.5557,-63.5035 1493.5318,-62.9251\" stroke=\"#000000\"/>\n</g>\n<!-- 28 -->\n<g class=\"node\" id=\"node29\">\n<title>28</title>\n<polygon fill=\"#399de5\" points=\"1647.5,-53 1552.5,-53 1552.5,0 1647.5,0 1647.5,-53\" stroke=\"#000000\"/>\n<text fill=\"#000000\" font-family=\"Times,serif\" font-size=\"14.00\" text-anchor=\"middle\" x=\"1600\" y=\"-37.8\">gini = 0.0</text>\n<text fill=\"#000000\" font-family=\"Times,serif\" font-size=\"14.00\" text-anchor=\"middle\" x=\"1600\" y=\"-22.8\">samples = 6</text>\n<text fill=\"#000000\" font-family=\"Times,serif\" font-size=\"14.00\" text-anchor=\"middle\" x=\"1600\" y=\"-7.8\">value = [0, 6]</text>\n</g>\n<!-- 26&#45;&gt;28 -->\n<g class=\"edge\" id=\"edge28\">\n<title>26-&gt;28</title>\n<path d=\"M1532.0191,-88.9777C1542.1819,-79.6376 1553.1947,-69.5163 1563.3374,-60.1947\" fill=\"none\" stroke=\"#000000\"/>\n<polygon fill=\"#000000\" points=\"1565.901,-62.5923 1570.8954,-53.2485 1561.1642,-57.4383 1565.901,-62.5923\" stroke=\"#000000\"/>\n</g>\n</g>\n</svg>"
          },
          "metadata": {
            "tags": []
          }
        }
      ]
    },
    {
      "cell_type": "markdown",
      "metadata": {
        "id": "UqITQHcsKWCO",
        "colab_type": "text"
      },
      "source": [
        "# Evaluate the Cross-Validation of the Trees\n",
        "The Accuracy through cross validation for the three variations are:\n",
        "\n",
        "*   Depth 2: 71%\n",
        "*   Depth 3: 69%\n",
        "*   Depth 4: 67%\n",
        "\n",
        "So the lowest tree depth (and therefore the one with the lowest complexity) has the highest accuracy score of the three compared decision trees\n",
        "\n"
      ]
    },
    {
      "cell_type": "markdown",
      "metadata": {
        "id": "IfPOe3qGGZ-e",
        "colab_type": "text"
      },
      "source": [
        "# Train a simple classifier (Logistic Regression)"
      ]
    },
    {
      "cell_type": "code",
      "metadata": {
        "id": "YPfmQ_-hJU6D",
        "colab_type": "code",
        "colab": {}
      },
      "source": [
        "from sklearn.linear_model import LogisticRegression\n",
        "reg = LogisticRegression()"
      ],
      "execution_count": 0,
      "outputs": []
    },
    {
      "cell_type": "code",
      "metadata": {
        "id": "7OKnOOFjJmQM",
        "colab_type": "code",
        "outputId": "ad9c5439-64a7-4d2d-8998-d2d3ce444a80",
        "colab": {
          "base_uri": "https://localhost:8080/",
          "height": 105
        }
      },
      "source": [
        "reg.fit(X_train, y_train)\n",
        "score_reg = reg.score(X_test, y_test)\n",
        "print(\"Accuracy Score:\")\n",
        "score_reg"
      ],
      "execution_count": 15,
      "outputs": [
        {
          "output_type": "stream",
          "text": [
            "Accuracy Score:\n"
          ],
          "name": "stdout"
        },
        {
          "output_type": "stream",
          "text": [
            "/usr/local/lib/python3.6/dist-packages/sklearn/linear_model/logistic.py:432: FutureWarning: Default solver will be changed to 'lbfgs' in 0.22. Specify a solver to silence this warning.\n",
            "  FutureWarning)\n"
          ],
          "name": "stderr"
        },
        {
          "output_type": "execute_result",
          "data": {
            "text/plain": [
              "0.7142857142857143"
            ]
          },
          "metadata": {
            "tags": []
          },
          "execution_count": 15
        }
      ]
    },
    {
      "cell_type": "code",
      "metadata": {
        "id": "FQItbmsMJyCm",
        "colab_type": "code",
        "outputId": "44b15743-dafa-4ab8-8376-d9c7aa95f17b",
        "colab": {
          "base_uri": "https://localhost:8080/",
          "height": 485
        }
      },
      "source": [
        "x_min, x_max = X[:, 0].min() - 1, X[:, 0].max() + 1\n",
        "y_min, y_max = X[:, 1].min() - 1, X[:, 1].max() + 1\n",
        "xx, yy = np.meshgrid(np.arange(x_min, x_max, 0.1), np.arange(y_min, y_max, 0.1))\n",
        "Z = reg.predict(np.c_[xx.ravel(), yy.ravel()])\n",
        "Z = Z.reshape(xx.shape)\n",
        "plt.figure(figsize=(8,8))\n",
        "plt.contourf(xx, yy, Z, alpha=0.4)\n",
        "# Plot the training points\n",
        "ix1 = np.where(y_train.to_numpy() == 0)\n",
        "ix2 = np.where(y_train.to_numpy() == 1)\n",
        "ix3 = np.where(y_test.to_numpy() == 0)\n",
        "ix4 = np.where(y_test.to_numpy() == 1)\n",
        "plt.scatter(np.concatenate((X_train[:, 0][ix1], X_test[:, 0][ix3])),\n",
        "           np.concatenate((X_train[:, 1][ix1], X_test[:, 1][ix3])),\n",
        "           s = 20, edgecolor='k', label='< 50% diameter narrowing')\n",
        "plt.scatter(np.concatenate((X_train[:, 0][ix2], X_test[:, 0][ix4])),\n",
        "           np.concatenate((X_train[:, 1][ix2], X_test[:, 1][ix4])),\n",
        "           s=20, edgecolor='k', label='> 50% diameter narrowing')\n",
        "plt.title('Logistic Regression')\n",
        "plt.xlim(xx.min(), xx.max())\n",
        "plt.ylim(yy.min(), yy.max())\n",
        "plt.xticks(())\n",
        "plt.yticks(())\n",
        "plt.legend()\n",
        "plt.text(xx.max() - .8, yy.min() + .8, ('%.2f' % score_reg).lstrip('0'),\n",
        "                size=15, horizontalalignment='right')\n",
        "plt.show()"
      ],
      "execution_count": 16,
      "outputs": [
        {
          "output_type": "display_data",
          "data": {
            "image/png": "[encoded data removed]",
            "text/plain": [
              "<Figure size 576x576 with 1 Axes>"
            ]
          },
          "metadata": {
            "tags": []
          }
        }
      ]
    }
  ]
}