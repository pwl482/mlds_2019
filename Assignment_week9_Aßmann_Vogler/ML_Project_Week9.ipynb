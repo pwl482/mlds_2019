{
  "nbformat": 4,
  "nbformat_minor": 0,
  "metadata": {
    "colab": {
      "name": "ML_Project_Week9.ipynb",
      "provenance": [],
      "collapsed_sections": [],
      "toc_visible": true
    },
    "kernelspec": {
      "name": "python3",
      "display_name": "Python 3"
    }
  },
  "cells": [
    {
      "cell_type": "markdown",
      "metadata": {
        "id": "vGYa-gOyB-gI",
        "colab_type": "text"
      },
      "source": [
        "# Machine Learning for Datascience Week 9\n",
        "Eva Aßmann, Paul Vogler"
      ]
    },
    {
      "cell_type": "markdown",
      "metadata": {
        "id": "5MwySUK5wpNQ",
        "colab_type": "text"
      },
      "source": [
        "following the tutorials on:<br>\n",
        "https://github.com/ageron/handson-ml/blob/master/13_convolutional_neural_networks.ipynb<br>\n",
        "https://github.com/tensorflow/tensorflow/blob/r0.10/tensorflow/examples/tutorials/deepdream/deepdream.ipynb\n"
      ]
    },
    {
      "cell_type": "markdown",
      "metadata": {
        "id": "_cAdg3oGOtxo",
        "colab_type": "text"
      },
      "source": [
        "# Functions and Import"
      ]
    },
    {
      "cell_type": "code",
      "metadata": {
        "id": "TRjm74GPOFeX",
        "colab_type": "code",
        "colab": {}
      },
      "source": [
        "# To support both python 2 and python 3\n",
        "from __future__ import division, print_function, unicode_literals\n",
        "from io import open\n",
        "\n",
        "# Common imports\n",
        "import numpy as np\n",
        "import os\n",
        "\n",
        "# to make this notebook's output stable across runs\n",
        "def reset_graph(seed=42):\n",
        "    tf.reset_default_graph()\n",
        "    tf.set_random_seed(seed)\n",
        "    np.random.seed(seed)\n",
        "\n",
        "# To plot pretty figures\n",
        "%matplotlib inline\n",
        "import matplotlib\n",
        "import matplotlib.pyplot as plt\n",
        "plt.rcParams['axes.labelsize'] = 14\n",
        "plt.rcParams['xtick.labelsize'] = 12\n",
        "plt.rcParams['ytick.labelsize'] = 12\n",
        "\n",
        "# Where to save the figures\n",
        "PROJECT_ROOT_DIR = \".\"\n",
        "CHAPTER_ID = \"cnn\"\n",
        "\n",
        "def save_fig(fig_id, tight_layout=True):\n",
        "    path = os.path.join(PROJECT_ROOT_DIR, \"images\", CHAPTER_ID, fig_id + \".png\")\n",
        "    print(\"Saving figure\", fig_id)\n",
        "    if tight_layout:\n",
        "        plt.tight_layout()\n",
        "    plt.savefig(path, format='png', dpi=300)"
      ],
      "execution_count": 0,
      "outputs": []
    },
    {
      "cell_type": "code",
      "metadata": {
        "id": "izVVJMmEOTlG",
        "colab_type": "code",
        "colab": {}
      },
      "source": [
        "def plot_image(image):\n",
        "    plt.imshow(image, cmap=\"gray\", interpolation=\"nearest\")\n",
        "    plt.axis(\"off\")\n",
        "\n",
        "def plot_color_image(image):\n",
        "    plt.imshow(image.astype(np.uint8),interpolation=\"nearest\")\n",
        "    plt.axis(\"off\")"
      ],
      "execution_count": 0,
      "outputs": []
    },
    {
      "cell_type": "code",
      "metadata": {
        "id": "Hoo8nI7ggnSn",
        "colab_type": "code",
        "colab": {}
      },
      "source": [
        "def shuffle_batch(X, y, batch_size):\n",
        "    rnd_idx = np.random.permutation(len(X))\n",
        "    n_batches = len(X) // batch_size\n",
        "    for batch_idx in np.array_split(rnd_idx, n_batches):\n",
        "        X_batch, y_batch = X[batch_idx], y[batch_idx]\n",
        "        yield X_batch, y_batch"
      ],
      "execution_count": 0,
      "outputs": []
    },
    {
      "cell_type": "code",
      "metadata": {
        "id": "rV9-2W_aBhql",
        "colab_type": "code",
        "colab": {}
      },
      "source": [
        "from sklearn.datasets import load_sample_images\n",
        "from sklearn.datasets import load_sample_image"
      ],
      "execution_count": 0,
      "outputs": []
    },
    {
      "cell_type": "code",
      "metadata": {
        "id": "SZK2kDhTRIbH",
        "colab_type": "code",
        "colab": {}
      },
      "source": [
        "import tensorflow as tf"
      ],
      "execution_count": 0,
      "outputs": []
    },
    {
      "cell_type": "markdown",
      "metadata": {
        "id": "oEpenFJnWRmX",
        "colab_type": "text"
      },
      "source": [
        "# 7. High Accuracy CNN for MNIST"
      ]
    },
    {
      "cell_type": "code",
      "metadata": {
        "id": "EJd1f0NPgevn",
        "colab_type": "code",
        "colab": {}
      },
      "source": [
        "(X_train, y_train), (X_test, y_test) = tf.keras.datasets.mnist.load_data()\n",
        "X_train = X_train.astype(np.float32).reshape(-1, 28*28) / 255.0\n",
        "X_test = X_test.astype(np.float32).reshape(-1, 28*28) / 255.0\n",
        "y_train = y_train.astype(np.int32)\n",
        "y_test = y_test.astype(np.int32)\n",
        "X_valid, X_train = X_train[:5000], X_train[5000:]\n",
        "y_valid, y_train = y_train[:5000], y_train[5000:]"
      ],
      "execution_count": 0,
      "outputs": []
    },
    {
      "cell_type": "code",
      "metadata": {
        "id": "ZiHaijLi6k35",
        "colab_type": "code",
        "outputId": "f072380b-2f01-4083-f52e-084997ba1ce0",
        "colab": {
          "base_uri": "https://localhost:8080/",
          "height": 286
        }
      },
      "source": [
        "plt.imshow(X_train[:500])"
      ],
      "execution_count": 17,
      "outputs": [
        {
          "output_type": "execute_result",
          "data": {
            "text/plain": [
              "<matplotlib.image.AxesImage at 0x7fac22bb74e0>"
            ]
          },
          "metadata": {
            "tags": []
          },
          "execution_count": 17
        },
        {
          "output_type": "display_data",
          "data": {
            "image/png": "[encoded data removed]",
            "text/plain": [
              "<Figure size 432x288 with 1 Axes>"
            ]
          },
          "metadata": {
            "tags": []
          }
        }
      ]
    },
    {
      "cell_type": "markdown",
      "metadata": {
        "id": "-fmw94n-XTRa",
        "colab_type": "text"
      },
      "source": [
        "input -> conv1 -> conv2 -> max_pooling -> flattening -> 25% dropout -> dense -> 50% dropout -> dense -> softmax -> output"
      ]
    },
    {
      "cell_type": "code",
      "metadata": {
        "id": "GiTdD1gIWPRD",
        "colab_type": "code",
        "colab": {}
      },
      "source": [
        "\n",
        "height = 28\n",
        "width = 28\n",
        "channels = 1\n",
        "n_inputs = height * width\n",
        "\n",
        "conv1_fmaps = 32\n",
        "conv1_ksize = 3\n",
        "conv1_stride = 1\n",
        "conv1_pad = \"SAME\"\n",
        "\n",
        "conv2_fmaps = 64\n",
        "conv2_ksize = 3\n",
        "conv2_stride = 1\n",
        "conv2_pad = \"SAME\"\n",
        "conv2_dropout_rate = 0.25\n",
        "\n",
        "pool3_fmaps = conv2_fmaps\n",
        "\n",
        "n_fc1 = 128\n",
        "fc1_dropout_rate = 0.25 #0.5\n",
        "\n",
        "n_outputs = 10\n",
        "\n",
        "reset_graph()\n",
        "\n",
        "with tf.name_scope(\"inputs\"):\n",
        "    X = tf.placeholder(tf.float32, shape=[None, n_inputs], name=\"X\")\n",
        "    X_reshaped = tf.reshape(X, shape=[-1, height, width, channels])\n",
        "    y = tf.placeholder(tf.int32, shape=[None], name=\"y\")\n",
        "    training = tf.placeholder_with_default(False, shape=[], name='training')\n",
        "conv1 = tf.layers.conv2d(X_reshaped, filters=conv1_fmaps, kernel_size=conv1_ksize,\n",
        "                         strides=conv1_stride, padding=conv1_pad,\n",
        "                         activation=tf.nn.relu, name=\"conv1\")\n",
        "conv2 = tf.layers.conv2d(conv1, filters=conv2_fmaps, kernel_size=conv2_ksize,\n",
        "                         strides=conv2_stride, padding=conv2_pad,\n",
        "                         activation=tf.nn.relu, name=\"conv2\")\n",
        "\n",
        "with tf.name_scope(\"pool3\"):\n",
        "    pool3 = tf.nn.max_pool(conv2, ksize=[1, 2, 2, 1], strides=[1, 2, 2, 1], padding=\"VALID\")\n",
        "    pool3_flat = tf.reshape(pool3, shape=[-1, pool3_fmaps * 14 * 14])\n",
        "    pool3_flat_drop = tf.layers.dropout(pool3_flat, conv2_dropout_rate, training=training)\n",
        "\n",
        "with tf.name_scope(\"fc1\"):\n",
        "    fc1 = tf.layers.dense(pool3_flat_drop, n_fc1, activation=tf.nn.relu, name=\"fc1\")\n",
        "    fc1_drop = tf.layers.dropout(fc1, fc1_dropout_rate, training=training)\n",
        "\n",
        "with tf.name_scope(\"output\"):\n",
        "    logits = tf.layers.dense(fc1_drop, n_outputs, name=\"output\")\n",
        "    Y_proba = tf.nn.softmax(logits, name=\"Y_proba\")\n",
        "\n",
        "with tf.name_scope(\"train\"):\n",
        "    xentropy = tf.nn.sparse_softmax_cross_entropy_with_logits(logits=logits, labels=y)\n",
        "    loss = tf.reduce_mean(xentropy)\n",
        "    optimizer = tf.train.AdamOptimizer()\n",
        "    training_op = optimizer.minimize(loss)\n",
        "\n",
        "with tf.name_scope(\"eval\"):\n",
        "    correct = tf.nn.in_top_k(logits, y, 1)\n",
        "    accuracy = tf.reduce_mean(tf.cast(correct, tf.float32))\n",
        "\n",
        "with tf.name_scope(\"init_and_save\"):\n",
        "    init = tf.global_variables_initializer()\n",
        "    saver = tf.train.Saver()"
      ],
      "execution_count": 0,
      "outputs": []
    },
    {
      "cell_type": "code",
      "metadata": {
        "id": "oo6SAfLHWhXp",
        "colab_type": "code",
        "colab": {}
      },
      "source": [
        "def get_model_params():\n",
        "    gvars = tf.get_collection(tf.GraphKeys.GLOBAL_VARIABLES)\n",
        "    return {gvar.op.name: value for gvar, value in zip(gvars, tf.get_default_session().run(gvars))}\n",
        "\n",
        "def restore_model_params(model_params):\n",
        "    gvar_names = list(model_params.keys())\n",
        "    assign_ops = {gvar_name: tf.get_default_graph().get_operation_by_name(gvar_name + \"/Assign\")\n",
        "                  for gvar_name in gvar_names}\n",
        "    init_values = {gvar_name: assign_op.inputs[1] for gvar_name, assign_op in assign_ops.items()}\n",
        "    feed_dict = {init_values[gvar_name]: model_params[gvar_name] for gvar_name in gvar_names}\n",
        "    tf.get_default_session().run(assign_ops, feed_dict=feed_dict)"
      ],
      "execution_count": 0,
      "outputs": []
    },
    {
      "cell_type": "code",
      "metadata": {
        "id": "2-njwqndWlUz",
        "colab_type": "code",
        "outputId": "76c97c93-0336-4167-b639-31f5a47eb32e",
        "colab": {
          "base_uri": "https://localhost:8080/",
          "height": 136
        }
      },
      "source": [
        "n_epochs = 40 #1000\n",
        "batch_size = 50\n",
        "iteration = 0\n",
        "\n",
        "best_loss_val = np.infty\n",
        "check_interval = 500\n",
        "checks_since_last_progress = 0\n",
        "max_checks_without_progress = 20\n",
        "best_model_params = None \n",
        "\n",
        "with tf.Session() as sess:\n",
        "    init.run()\n",
        "    for epoch in range(n_epochs):\n",
        "        for X_batch, y_batch in shuffle_batch(X_train, y_train, batch_size):\n",
        "            iteration += 1\n",
        "            sess.run(training_op, feed_dict={X: X_batch, y: y_batch, training: True})\n",
        "            if iteration % check_interval == 0:\n",
        "                loss_val = loss.eval(feed_dict={X: X_valid, y: y_valid})\n",
        "                if loss_val < best_loss_val:\n",
        "                    best_loss_val = loss_val\n",
        "                    checks_since_last_progress = 0\n",
        "                    best_model_params = get_model_params()\n",
        "                else:\n",
        "                    checks_since_last_progress += 1\n",
        "        acc_batch = accuracy.eval(feed_dict={X: X_batch, y: y_batch})\n",
        "        acc_val = accuracy.eval(feed_dict={X: X_valid, y: y_valid})\n",
        "        print(\"Epoch {}, last batch accuracy: {:.4f}%, valid. accuracy: {:.4f}%, valid. best loss: {:.6f}\".format(\n",
        "                  epoch, acc_batch * 100, acc_val * 100, best_loss_val))\n",
        "        if checks_since_last_progress > max_checks_without_progress:\n",
        "            print(\"Early stopping!\")\n",
        "            break\n",
        "\n",
        "    if best_model_params:\n",
        "        restore_model_params(best_model_params)\n",
        "    acc_test = accuracy.eval(feed_dict={X: X_test, y: y_test})\n",
        "    print(\"Final accuracy on test set:\", acc_test)\n",
        "    save_path = saver.save(sess, \"./my_mnist_model\")"
      ],
      "execution_count": 0,
      "outputs": [
        {
          "output_type": "stream",
          "text": [
            "Epoch 0, last batch accuracy: 98.0000%, valid. accuracy: 98.6000%, valid. best loss: 0.055158\n",
            "Epoch 1, last batch accuracy: 100.0000%, valid. accuracy: 98.8600%, valid. best loss: 0.044299\n",
            "Epoch 2, last batch accuracy: 96.0000%, valid. accuracy: 98.6000%, valid. best loss: 0.043364\n",
            "Epoch 3, last batch accuracy: 100.0000%, valid. accuracy: 99.0600%, valid. best loss: 0.037730\n",
            "Epoch 4, last batch accuracy: 100.0000%, valid. accuracy: 99.0400%, valid. best loss: 0.036304\n",
            "Epoch 5, last batch accuracy: 100.0000%, valid. accuracy: 99.0200%, valid. best loss: 0.035632\n",
            "Epoch 6, last batch accuracy: 100.0000%, valid. accuracy: 99.1000%, valid. best loss: 0.035632\n"
          ],
          "name": "stdout"
        }
      ]
    },
    {
      "cell_type": "markdown",
      "metadata": {
        "id": "6dfciIWJaTgQ",
        "colab_type": "text"
      },
      "source": [
        "# 8. Classifying large images using Inception v3."
      ]
    },
    {
      "cell_type": "markdown",
      "metadata": {
        "id": "UD5SuN9HaUpQ",
        "colab_type": "text"
      },
      "source": [
        "## 8.1"
      ]
    },
    {
      "cell_type": "markdown",
      "metadata": {
        "id": "OyCT6pg8_F4L",
        "colab_type": "text"
      },
      "source": [
        "### Hyena"
      ]
    },
    {
      "cell_type": "code",
      "metadata": {
        "id": "RakYpXMu-5xG",
        "colab_type": "code",
        "colab": {}
      },
      "source": [
        "width = 299\n",
        "height = 299\n",
        "channels = 3"
      ],
      "execution_count": 0,
      "outputs": []
    },
    {
      "cell_type": "code",
      "metadata": {
        "id": "ZJckTLr1axJW",
        "colab_type": "code",
        "colab": {}
      },
      "source": [
        "import matplotlib.image as mpimg\n",
        "test_image = mpimg.imread(os.path.join(\"/content\",\"test_image.png\"))[:, :, :channels]\n",
        "plt.imshow(test_image)\n",
        "plt.axis(\"off\")\n",
        "plt.show()"
      ],
      "execution_count": 0,
      "outputs": []
    },
    {
      "cell_type": "code",
      "metadata": {
        "id": "vlAzRrSSmREa",
        "colab_type": "code",
        "colab": {}
      },
      "source": [
        "test_image.shape"
      ],
      "execution_count": 0,
      "outputs": []
    },
    {
      "cell_type": "code",
      "metadata": {
        "id": "uEjxB8NaazrF",
        "colab_type": "code",
        "colab": {}
      },
      "source": [
        "test_image = 2 * test_image - 1"
      ],
      "execution_count": 0,
      "outputs": []
    },
    {
      "cell_type": "markdown",
      "metadata": {
        "id": "ZCPnp_Gv_Hwa",
        "colab_type": "text"
      },
      "source": [
        "### Tiger"
      ]
    },
    {
      "cell_type": "code",
      "metadata": {
        "id": "AkLjmxvTmyCP",
        "colab_type": "code",
        "colab": {}
      },
      "source": [
        "tiger_image = mpimg.imread(os.path.join(\"/content\",\"tiger.png\"))[:, :, :channels]\n",
        "print(tiger_image.shape)\n",
        "plt.imshow(tiger_image)\n",
        "plt.axis(\"off\")\n",
        "plt.show()"
      ],
      "execution_count": 0,
      "outputs": []
    },
    {
      "cell_type": "code",
      "metadata": {
        "id": "sXGY_icC9kaK",
        "colab_type": "code",
        "colab": {}
      },
      "source": [
        "from skimage.transform import resize\n",
        "tiger_resized = resize(tiger_image, (width, height), anti_aliasing=False)\n",
        "print(tiger_resized.shape)\n",
        "plt.imshow(tiger_resized)\n",
        "plt.axis(\"off\")\n",
        "plt.show()\n",
        "\n",
        "tiger_resized = 2 * tiger_resized - 1"
      ],
      "execution_count": 0,
      "outputs": []
    },
    {
      "cell_type": "markdown",
      "metadata": {
        "id": "nwnjnhhW_Kas",
        "colab_type": "text"
      },
      "source": [
        "### Pangolin"
      ]
    },
    {
      "cell_type": "code",
      "metadata": {
        "id": "fXQYoH9T_Lvb",
        "colab_type": "code",
        "colab": {}
      },
      "source": [
        "pangolin_image = mpimg.imread(os.path.join(\"/content\",\"pangolin.png\"))[:, :, :channels]\n",
        "print(pangolin_image.shape)\n",
        "plt.imshow(pangolin_image)\n",
        "plt.axis(\"off\")\n",
        "plt.show()"
      ],
      "execution_count": 0,
      "outputs": []
    },
    {
      "cell_type": "code",
      "metadata": {
        "id": "_kBQPxvp_Woy",
        "colab_type": "code",
        "colab": {}
      },
      "source": [
        "pangolin_resized = resize(pangolin_image, (width, height), anti_aliasing=False)\n",
        "print(pangolin_resized.shape)\n",
        "plt.imshow(pangolin_resized)\n",
        "plt.axis(\"off\")\n",
        "plt.show()\n",
        "\n",
        "pangolin_resized = 2 * pangolin_resized - 1"
      ],
      "execution_count": 0,
      "outputs": []
    },
    {
      "cell_type": "markdown",
      "metadata": {
        "id": "pJNL_vAGakxG",
        "colab_type": "text"
      },
      "source": [
        "## 8.2"
      ]
    },
    {
      "cell_type": "code",
      "metadata": {
        "id": "GPnF0FuKb5ni",
        "colab_type": "code",
        "colab": {}
      },
      "source": [
        "import sys\n",
        "import tarfile\n",
        "from six.moves import urllib\n",
        "\n",
        "TF_MODELS_URL = \"http://download.tensorflow.org/models\"\n",
        "INCEPTION_V3_URL = TF_MODELS_URL + \"/inception_v3_2016_08_28.tar.gz\"\n",
        "INCEPTION_PATH = os.path.join(\"datasets\", \"inception\")\n",
        "INCEPTION_V3_CHECKPOINT_PATH = os.path.join(INCEPTION_PATH, \"inception_v3.ckpt\")\n",
        "\n",
        "def download_progress(count, block_size, total_size):\n",
        "    percent = count * block_size * 100 // total_size\n",
        "    sys.stdout.write(\"\\rDownloading: {}%\".format(percent))\n",
        "    sys.stdout.flush()\n",
        "\n",
        "def fetch_pretrained_inception_v3(url=INCEPTION_V3_URL, path=INCEPTION_PATH):\n",
        "    if os.path.exists(INCEPTION_V3_CHECKPOINT_PATH):\n",
        "        return\n",
        "    os.makedirs(path, exist_ok=True)\n",
        "    tgz_path = os.path.join(path, \"inception_v3.tgz\")\n",
        "    urllib.request.urlretrieve(url, tgz_path, reporthook=download_progress)\n",
        "    inception_tgz = tarfile.open(tgz_path)\n",
        "    inception_tgz.extractall(path=path)\n",
        "    inception_tgz.close()\n",
        "    os.remove(tgz_path)"
      ],
      "execution_count": 0,
      "outputs": []
    },
    {
      "cell_type": "code",
      "metadata": {
        "id": "ZVNT7rJ7cNvp",
        "colab_type": "code",
        "colab": {}
      },
      "source": [
        "fetch_pretrained_inception_v3()"
      ],
      "execution_count": 0,
      "outputs": []
    },
    {
      "cell_type": "code",
      "metadata": {
        "id": "lHjWCP74cP5s",
        "colab_type": "code",
        "colab": {}
      },
      "source": [
        "import re\n",
        "\n",
        "CLASS_NAME_REGEX = re.compile(r\"^n\\d+\\s+(.*)\\s*$\", re.M | re.U)\n",
        "\n",
        "def load_class_names():\n",
        "    path = \"imagenet_class_names.txt\"\n",
        "    with open(path, encoding=\"utf-8\") as f:\n",
        "        content = f.read()\n",
        "        return CLASS_NAME_REGEX.findall(content)"
      ],
      "execution_count": 0,
      "outputs": []
    },
    {
      "cell_type": "code",
      "metadata": {
        "id": "HNKnrnIPcSgw",
        "colab_type": "code",
        "colab": {}
      },
      "source": [
        "class_names = [\"background\"] + load_class_names()"
      ],
      "execution_count": 0,
      "outputs": []
    },
    {
      "cell_type": "code",
      "metadata": {
        "id": "8g2hBB4vcU-f",
        "colab_type": "code",
        "colab": {}
      },
      "source": [
        "class_names[:5]"
      ],
      "execution_count": 0,
      "outputs": []
    },
    {
      "cell_type": "markdown",
      "metadata": {
        "id": "EVYu2rMlcXNk",
        "colab_type": "text"
      },
      "source": [
        "## 8.3"
      ]
    },
    {
      "cell_type": "code",
      "metadata": {
        "id": "y39cOmeUcjHP",
        "colab_type": "code",
        "colab": {}
      },
      "source": [
        "from tensorflow.contrib.slim.nets import inception\n",
        "import tensorflow.contrib.slim as slim\n",
        "\n",
        "reset_graph()\n",
        "\n",
        "X = tf.placeholder(tf.float32, shape=[None, 299, 299, 3], name=\"X\")\n",
        "with slim.arg_scope(inception.inception_v3_arg_scope()):\n",
        "    logits, end_points = inception.inception_v3(\n",
        "        X, num_classes=1001, is_training=False)\n",
        "predictions = end_points[\"Predictions\"]\n",
        "saver = tf.train.Saver()"
      ],
      "execution_count": 0,
      "outputs": []
    },
    {
      "cell_type": "markdown",
      "metadata": {
        "id": "DcNGLMDKckko",
        "colab_type": "text"
      },
      "source": [
        "## 8.4"
      ]
    },
    {
      "cell_type": "code",
      "metadata": {
        "id": "eoXRuT8gcmEX",
        "colab_type": "code",
        "colab": {}
      },
      "source": [
        "with tf.Session() as sess:\n",
        "    saver.restore(sess, INCEPTION_V3_CHECKPOINT_PATH)"
      ],
      "execution_count": 0,
      "outputs": []
    },
    {
      "cell_type": "markdown",
      "metadata": {
        "id": "QGCugq8ocy8d",
        "colab_type": "text"
      },
      "source": [
        "## 8.5"
      ]
    },
    {
      "cell_type": "markdown",
      "metadata": {
        "id": "qIEkiyMGF4Mu",
        "colab_type": "text"
      },
      "source": [
        "### Hyena"
      ]
    },
    {
      "cell_type": "code",
      "metadata": {
        "id": "j0xElZKNc1Fs",
        "colab_type": "code",
        "colab": {}
      },
      "source": [
        "X_test = test_image.reshape(-1, height, width, channels)\n",
        "\n",
        "with tf.Session() as sess:\n",
        "    saver.restore(sess, INCEPTION_V3_CHECKPOINT_PATH)\n",
        "    predictions_val = predictions.eval(feed_dict={X: X_test})"
      ],
      "execution_count": 0,
      "outputs": []
    },
    {
      "cell_type": "code",
      "metadata": {
        "id": "4wUoyHNlc4dh",
        "colab_type": "code",
        "colab": {}
      },
      "source": [
        "most_likely_class_index = np.argmax(predictions_val[0])\n",
        "most_likely_class_index"
      ],
      "execution_count": 0,
      "outputs": []
    },
    {
      "cell_type": "code",
      "metadata": {
        "id": "INFHEF1hc8kO",
        "colab_type": "code",
        "colab": {}
      },
      "source": [
        "class_names[most_likely_class_index]"
      ],
      "execution_count": 0,
      "outputs": []
    },
    {
      "cell_type": "code",
      "metadata": {
        "id": "tG_sayo1c-64",
        "colab_type": "code",
        "colab": {}
      },
      "source": [
        "top_5 = np.argpartition(predictions_val[0], -5)[-5:]\n",
        "top_5 = reversed(top_5[np.argsort(predictions_val[0][top_5])])\n",
        "for i in top_5:\n",
        "    print(\"{0}: {1:.2f}%\".format(class_names[i], 100 * predictions_val[0][i]))"
      ],
      "execution_count": 0,
      "outputs": []
    },
    {
      "cell_type": "markdown",
      "metadata": {
        "colab_type": "text",
        "id": "ml87Akg-F8OL"
      },
      "source": [
        "### Tiger"
      ]
    },
    {
      "cell_type": "code",
      "metadata": {
        "colab_type": "code",
        "id": "ZAuU8o9PF8OX",
        "colab": {}
      },
      "source": [
        "X_test = tiger_resized.reshape(-1, height, width, channels)\n",
        "\n",
        "with tf.Session() as sess:\n",
        "    saver.restore(sess, INCEPTION_V3_CHECKPOINT_PATH)\n",
        "    predictions_val = predictions.eval(feed_dict={X: X_test})"
      ],
      "execution_count": 0,
      "outputs": []
    },
    {
      "cell_type": "code",
      "metadata": {
        "colab_type": "code",
        "id": "_ifqh_1OF8Ol",
        "colab": {}
      },
      "source": [
        "most_likely_class_index = np.argmax(predictions_val[0])\n",
        "most_likely_class_index"
      ],
      "execution_count": 0,
      "outputs": []
    },
    {
      "cell_type": "code",
      "metadata": {
        "colab_type": "code",
        "id": "gcKgmxetF8Or",
        "colab": {}
      },
      "source": [
        "class_names[most_likely_class_index]"
      ],
      "execution_count": 0,
      "outputs": []
    },
    {
      "cell_type": "code",
      "metadata": {
        "colab_type": "code",
        "id": "OQajFiokF8Ov",
        "colab": {}
      },
      "source": [
        "top_5 = np.argpartition(predictions_val[0], -5)[-5:]\n",
        "top_5 = reversed(top_5[np.argsort(predictions_val[0][top_5])])\n",
        "for i in top_5:\n",
        "    print(\"{0}: {1:.2f}%\".format(class_names[i], 100 * predictions_val[0][i]))"
      ],
      "execution_count": 0,
      "outputs": []
    },
    {
      "cell_type": "markdown",
      "metadata": {
        "colab_type": "text",
        "id": "DdLjAzdyF8-T"
      },
      "source": [
        "### Pangolin"
      ]
    },
    {
      "cell_type": "code",
      "metadata": {
        "colab_type": "code",
        "id": "uBeITdjwF8-U",
        "colab": {}
      },
      "source": [
        "X_test = pangolin_resized.reshape(-1, height, width, channels)\n",
        "\n",
        "with tf.Session() as sess:\n",
        "    saver.restore(sess, INCEPTION_V3_CHECKPOINT_PATH)\n",
        "    predictions_val = predictions.eval(feed_dict={X: X_test})"
      ],
      "execution_count": 0,
      "outputs": []
    },
    {
      "cell_type": "code",
      "metadata": {
        "colab_type": "code",
        "id": "veF7oERiF8-W",
        "colab": {}
      },
      "source": [
        "most_likely_class_index = np.argmax(predictions_val[0])\n",
        "most_likely_class_index"
      ],
      "execution_count": 0,
      "outputs": []
    },
    {
      "cell_type": "code",
      "metadata": {
        "colab_type": "code",
        "id": "R-3YIKKkF8-Z",
        "colab": {}
      },
      "source": [
        "class_names[most_likely_class_index]"
      ],
      "execution_count": 0,
      "outputs": []
    },
    {
      "cell_type": "code",
      "metadata": {
        "colab_type": "code",
        "id": "IMyH4wTmF8-b",
        "colab": {}
      },
      "source": [
        "top_5 = np.argpartition(predictions_val[0], -5)[-5:]\n",
        "top_5 = reversed(top_5[np.argsort(predictions_val[0][top_5])])\n",
        "for i in top_5:\n",
        "    print(\"{0}: {1:.2f}%\".format(class_names[i], 100 * predictions_val[0][i]))"
      ],
      "execution_count": 0,
      "outputs": []
    },
    {
      "cell_type": "markdown",
      "metadata": {
        "id": "nKHdQHH3dBeM",
        "colab_type": "text"
      },
      "source": [
        "# 9. Transfer learning for large image classification."
      ]
    },
    {
      "cell_type": "markdown",
      "metadata": {
        "id": "t6oXWQBQdKWf",
        "colab_type": "text"
      },
      "source": [
        "## 9.1"
      ]
    },
    {
      "cell_type": "code",
      "metadata": {
        "id": "x6Dxq8MWdOb3",
        "colab_type": "code",
        "colab": {}
      },
      "source": [
        "import sys\n",
        "import tarfile\n",
        "from six.moves import urllib\n",
        "\n",
        "FLOWERS_URL = \"http://download.tensorflow.org/example_images/flower_photos.tgz\"\n",
        "FLOWERS_PATH = os.path.join(\"datasets\", \"flowers\")\n",
        "\n",
        "def fetch_flowers(url=FLOWERS_URL, path=FLOWERS_PATH):\n",
        "    if os.path.exists(FLOWERS_PATH):\n",
        "        return\n",
        "    os.makedirs(path, exist_ok=True)\n",
        "    tgz_path = os.path.join(path, \"flower_photos.tgz\")\n",
        "    urllib.request.urlretrieve(url, tgz_path, reporthook=download_progress)\n",
        "    flowers_tgz = tarfile.open(tgz_path)\n",
        "    flowers_tgz.extractall(path=path)\n",
        "    flowers_tgz.close()\n",
        "    os.remove(tgz_path)"
      ],
      "execution_count": 0,
      "outputs": []
    },
    {
      "cell_type": "code",
      "metadata": {
        "id": "EZ1__BB1dRFK",
        "colab_type": "code",
        "colab": {}
      },
      "source": [
        "fetch_flowers()"
      ],
      "execution_count": 0,
      "outputs": []
    },
    {
      "cell_type": "markdown",
      "metadata": {
        "id": "-6nOujAlJWyO",
        "colab_type": "text"
      },
      "source": [
        "Each subdirectory of the flower_photos directory contains all the pictures of a given class. Let's get the list of classes:"
      ]
    },
    {
      "cell_type": "code",
      "metadata": {
        "id": "pBp84xkBdTeO",
        "colab_type": "code",
        "colab": {}
      },
      "source": [
        "flowers_root_path = os.path.join(FLOWERS_PATH, \"flower_photos\")\n",
        "flower_classes = sorted([dirname for dirname in os.listdir(flowers_root_path)\n",
        "                  if os.path.isdir(os.path.join(flowers_root_path, dirname))])\n",
        "flower_classes"
      ],
      "execution_count": 0,
      "outputs": []
    },
    {
      "cell_type": "markdown",
      "metadata": {
        "id": "1JqBFREKJZoo",
        "colab_type": "text"
      },
      "source": [
        "list of all the image file paths for each class:"
      ]
    },
    {
      "cell_type": "code",
      "metadata": {
        "id": "piS8v7W2dWKr",
        "colab_type": "code",
        "colab": {}
      },
      "source": [
        "from collections import defaultdict\n",
        "\n",
        "image_paths = defaultdict(list)\n",
        "\n",
        "for flower_class in flower_classes:\n",
        "    image_dir = os.path.join(flowers_root_path, flower_class)\n",
        "    for filepath in os.listdir(image_dir):\n",
        "        if filepath.endswith(\".jpg\"):\n",
        "            image_paths[flower_class].append(os.path.join(image_dir, filepath))"
      ],
      "execution_count": 0,
      "outputs": []
    },
    {
      "cell_type": "code",
      "metadata": {
        "id": "JdBTxtz8dYHv",
        "colab_type": "code",
        "colab": {}
      },
      "source": [
        "for paths in image_paths.values():\n",
        "    paths.sort()"
      ],
      "execution_count": 0,
      "outputs": []
    },
    {
      "cell_type": "code",
      "metadata": {
        "id": "_pGty0Acda_m",
        "colab_type": "code",
        "colab": {}
      },
      "source": [
        "import matplotlib.image as mpimg\n",
        "\n",
        "n_examples_per_class = 2\n",
        "\n",
        "for flower_class in flower_classes:\n",
        "    print(\"Class:\", flower_class)\n",
        "    plt.figure(figsize=(10,5))\n",
        "    for index, example_image_path in enumerate(image_paths[flower_class][:n_examples_per_class]):\n",
        "        example_image = mpimg.imread(example_image_path)[:, :, :channels]\n",
        "        plt.subplot(100 + n_examples_per_class * 10 + index + 1)\n",
        "        plt.title(\"{}x{}\".format(example_image.shape[1], example_image.shape[0]))\n",
        "        plt.imshow(example_image)\n",
        "        plt.axis(\"off\")\n",
        "    plt.show()"
      ],
      "execution_count": 0,
      "outputs": []
    },
    {
      "cell_type": "markdown",
      "metadata": {
        "id": "PMfEKgdNdeBK",
        "colab_type": "text"
      },
      "source": [
        "## 9.2"
      ]
    },
    {
      "cell_type": "markdown",
      "metadata": {
        "id": "JIP-K8gAJxEm",
        "colab_type": "text"
      },
      "source": [
        "resize and crop the images to 299 × 299, with some randomness for data augmentation"
      ]
    },
    {
      "cell_type": "code",
      "metadata": {
        "id": "MzKsg9qcdigH",
        "colab_type": "code",
        "colab": {}
      },
      "source": [
        "from skimage.transform import resize\n",
        "\n",
        "def prepare_image(image, target_width = 299, target_height = 299, max_zoom = 0.2):\n",
        "    \"\"\"Zooms and crops the image randomly for data augmentation.\"\"\"\n",
        "\n",
        "    # First, let's find the largest bounding box with the target size ratio that fits within the image\n",
        "    height = image.shape[0]\n",
        "    width = image.shape[1]\n",
        "    image_ratio = width / height\n",
        "    target_image_ratio = target_width / target_height\n",
        "    crop_vertically = image_ratio < target_image_ratio\n",
        "    crop_width = width if crop_vertically else int(height * target_image_ratio)\n",
        "    crop_height = int(width / target_image_ratio) if crop_vertically else height\n",
        "        \n",
        "    # Now let's shrink this bounding box by a random factor (dividing the dimensions by a random number\n",
        "    # between 1.0 and 1.0 + `max_zoom`.\n",
        "    resize_factor = np.random.rand() * max_zoom + 1.0\n",
        "    crop_width = int(crop_width / resize_factor)\n",
        "    crop_height = int(crop_height / resize_factor)\n",
        "    \n",
        "    # Next, we can select a random location on the image for this bounding box.\n",
        "    x0 = np.random.randint(0, width - crop_width)\n",
        "    y0 = np.random.randint(0, height - crop_height)\n",
        "    x1 = x0 + crop_width\n",
        "    y1 = y0 + crop_height\n",
        "    \n",
        "    # Let's crop the image using the random bounding box we built.\n",
        "    image = image[y0:y1, x0:x1]\n",
        "    # Let's also flip the image horizontally with 50% probability:\n",
        "    if np.random.rand() < 0.5:\n",
        "        image = np.fliplr(image)\n",
        "\n",
        "    # Now, let's resize the image to the target dimensions.\n",
        "    # The resize function of scikit-image will automatically transform the image to floats ranging from 0.0 to 1.0\n",
        "    image = resize(image, (target_width, target_height))\n",
        "    \n",
        "    # Finally, let's ensure that the colors are represented as 32-bit floats:\n",
        "    return image.astype(np.float32)"
      ],
      "execution_count": 0,
      "outputs": []
    },
    {
      "cell_type": "markdown",
      "metadata": {
        "id": "7GeKXGi_KC-L",
        "colab_type": "text"
      },
      "source": [
        "one example using above function"
      ]
    },
    {
      "cell_type": "code",
      "metadata": {
        "id": "F1rog-EidrhC",
        "colab_type": "code",
        "colab": {}
      },
      "source": [
        "plt.figure(figsize=(6, 8))\n",
        "plt.imshow(example_image)\n",
        "plt.title(\"{}x{}\".format(example_image.shape[1], example_image.shape[0]))\n",
        "plt.axis(\"off\")\n",
        "plt.show()"
      ],
      "execution_count": 0,
      "outputs": []
    },
    {
      "cell_type": "code",
      "metadata": {
        "id": "SX5wzkBodvva",
        "colab_type": "code",
        "colab": {}
      },
      "source": [
        "prepared_image = prepare_image(example_image)\n",
        "\n",
        "plt.figure(figsize=(8, 8))\n",
        "plt.imshow(prepared_image)\n",
        "plt.title(\"{}x{}\".format(prepared_image.shape[1], prepared_image.shape[0]))\n",
        "plt.axis(\"off\")\n",
        "plt.show()"
      ],
      "execution_count": 0,
      "outputs": []
    },
    {
      "cell_type": "markdown",
      "metadata": {
        "id": "kqLVINVxKPtA",
        "colab_type": "text"
      },
      "source": [
        "the same function with different random noise"
      ]
    },
    {
      "cell_type": "code",
      "metadata": {
        "id": "1HdELYKed0B0",
        "colab_type": "code",
        "colab": {}
      },
      "source": [
        "rows, cols = 2, 3\n",
        "\n",
        "plt.figure(figsize=(14, 8))\n",
        "for row in range(rows):\n",
        "    for col in range(cols):\n",
        "        prepared_image = prepare_image(example_image)\n",
        "        plt.subplot(rows, cols, row * cols + col + 1)\n",
        "        plt.title(\"{}x{}\".format(prepared_image.shape[1], prepared_image.shape[0]))\n",
        "        plt.imshow(prepared_image)\n",
        "        plt.axis(\"off\")\n",
        "plt.show()"
      ],
      "execution_count": 0,
      "outputs": []
    },
    {
      "cell_type": "markdown",
      "metadata": {
        "id": "qD3Q5x3-d82Q",
        "colab_type": "text"
      },
      "source": [
        "## 9.3"
      ]
    },
    {
      "cell_type": "markdown",
      "metadata": {
        "id": "U2gTXNU-L1wi",
        "colab_type": "text"
      },
      "source": [
        "Using the pretrained Inception v3 model from the previous exercise, freeze all layers up to the bottleneck layer and replace the output layer with five neurons\n",
        "\n",
        "fetch inception v3 again:"
      ]
    },
    {
      "cell_type": "code",
      "metadata": {
        "id": "RpTf0eXLd-Sq",
        "colab_type": "code",
        "colab": {}
      },
      "source": [
        "from tensorflow.contrib.slim.nets import inception\n",
        "import tensorflow.contrib.slim as slim\n",
        "\n",
        "reset_graph()\n",
        "\n",
        "X = tf.placeholder(tf.float32, shape=[None, height, width, channels], name=\"X\")\n",
        "training = tf.placeholder_with_default(False, shape=[])\n",
        "with slim.arg_scope(inception.inception_v3_arg_scope()):\n",
        "    logits, end_points = inception.inception_v3(X, num_classes=1001, is_training=training)\n",
        "\n",
        "inception_saver = tf.train.Saver()"
      ],
      "execution_count": 0,
      "outputs": []
    },
    {
      "cell_type": "markdown",
      "metadata": {
        "id": "__gyJntEO_fX",
        "colab_type": "text"
      },
      "source": [
        " find the point in the graph where we should attach the new output layer"
      ]
    },
    {
      "cell_type": "code",
      "metadata": {
        "id": "5TsrIRz3eI1v",
        "colab_type": "code",
        "colab": {}
      },
      "source": [
        "end_points"
      ],
      "execution_count": 0,
      "outputs": []
    },
    {
      "cell_type": "code",
      "metadata": {
        "id": "Bfe4aFRKeK1E",
        "colab_type": "code",
        "colab": {}
      },
      "source": [
        "end_points[\"PreLogits\"]"
      ],
      "execution_count": 0,
      "outputs": []
    },
    {
      "cell_type": "markdown",
      "metadata": {
        "id": "Tab6H1vIPYto",
        "colab_type": "text"
      },
      "source": [
        "drop the 2nd and 3rd dimensions"
      ]
    },
    {
      "cell_type": "code",
      "metadata": {
        "id": "9l8w4nEfeNAY",
        "colab_type": "code",
        "colab": {}
      },
      "source": [
        "prelogits = tf.squeeze(end_points[\"PreLogits\"], axis=[1, 2])"
      ],
      "execution_count": 0,
      "outputs": []
    },
    {
      "cell_type": "markdown",
      "metadata": {
        "id": "wf4LvPxmPbyC",
        "colab_type": "text"
      },
      "source": [
        "add the final fully connected layer on top of this layer"
      ]
    },
    {
      "cell_type": "code",
      "metadata": {
        "id": "bqVZZ86-eQSf",
        "colab_type": "code",
        "colab": {}
      },
      "source": [
        "n_outputs = len(flower_classes)\n",
        "\n",
        "with tf.name_scope(\"new_output_layer\"):\n",
        "    flower_logits = tf.layers.dense(prelogits, n_outputs, name=\"flower_logits\")\n",
        "    Y_proba = tf.nn.softmax(flower_logits, name=\"Y_proba\")"
      ],
      "execution_count": 0,
      "outputs": []
    },
    {
      "cell_type": "markdown",
      "metadata": {
        "id": "KVDv-heXPxBA",
        "colab_type": "text"
      },
      "source": [
        "add: \n",
        "* the placeholder for the targets (y),\n",
        "* the loss function, which is the cross-entropy, as usual for a classification task,\n",
        "* an optimizer, that we use to create a training operation that will minimize the cost function,\n",
        "* a couple operations to measure the model's accuracy,\n",
        "* and finally an initializer and a saver\n",
        "* pass the list of variables to train to the optimizer's minimize() method\n"
      ]
    },
    {
      "cell_type": "code",
      "metadata": {
        "id": "sAtvvPhneSzO",
        "colab_type": "code",
        "colab": {}
      },
      "source": [
        "y = tf.placeholder(tf.int32, shape=[None])\n",
        "\n",
        "with tf.name_scope(\"train\"):\n",
        "    xentropy = tf.nn.sparse_softmax_cross_entropy_with_logits(logits=flower_logits, labels=y)\n",
        "    loss = tf.reduce_mean(xentropy)\n",
        "    optimizer = tf.train.AdamOptimizer()\n",
        "    flower_vars = tf.get_collection(tf.GraphKeys.TRAINABLE_VARIABLES, scope=\"flower_logits\")\n",
        "    training_op = optimizer.minimize(loss, var_list=flower_vars)\n",
        "\n",
        "with tf.name_scope(\"eval\"):\n",
        "    correct = tf.nn.in_top_k(flower_logits, y, 1)\n",
        "    accuracy = tf.reduce_mean(tf.cast(correct, tf.float32))\n",
        "\n",
        "with tf.name_scope(\"init_and_save\"):\n",
        "    init = tf.global_variables_initializer()\n",
        "    saver = tf.train.Saver()"
      ],
      "execution_count": 0,
      "outputs": []
    },
    {
      "cell_type": "code",
      "metadata": {
        "id": "5mcLuIjmeUcE",
        "colab_type": "code",
        "colab": {}
      },
      "source": [
        "[v.name for v in flower_vars]"
      ],
      "execution_count": 0,
      "outputs": []
    },
    {
      "cell_type": "markdown",
      "metadata": {
        "id": "KJ0etr72eVVP",
        "colab_type": "text"
      },
      "source": [
        "## 9.4"
      ]
    },
    {
      "cell_type": "markdown",
      "metadata": {
        "id": "FYtLT3znRpqy",
        "colab_type": "text"
      },
      "source": [
        "test train split"
      ]
    },
    {
      "cell_type": "code",
      "metadata": {
        "id": "F7Ut6dS2eWeP",
        "colab_type": "code",
        "colab": {}
      },
      "source": [
        "flower_class_ids = {flower_class: index for index, flower_class in enumerate(flower_classes)}\n",
        "flower_class_ids"
      ],
      "execution_count": 0,
      "outputs": []
    },
    {
      "cell_type": "code",
      "metadata": {
        "id": "vO7GkManeZAP",
        "colab_type": "code",
        "colab": {}
      },
      "source": [
        "flower_paths_and_classes = []\n",
        "for flower_class, paths in image_paths.items():\n",
        "    for path in paths:\n",
        "        flower_paths_and_classes.append((path, flower_class_ids[flower_class]))"
      ],
      "execution_count": 0,
      "outputs": []
    },
    {
      "cell_type": "code",
      "metadata": {
        "id": "klO4TTFKebkv",
        "colab_type": "code",
        "colab": {}
      },
      "source": [
        "test_ratio = 0.2\n",
        "train_size = int(len(flower_paths_and_classes) * (1 - test_ratio))\n",
        "\n",
        "np.random.shuffle(flower_paths_and_classes)\n",
        "\n",
        "flower_paths_and_classes_train = flower_paths_and_classes[:train_size]\n",
        "flower_paths_and_classes_test = flower_paths_and_classes[train_size:]"
      ],
      "execution_count": 0,
      "outputs": []
    },
    {
      "cell_type": "markdown",
      "metadata": {
        "id": "q8Np5209R2R9",
        "colab_type": "text"
      },
      "source": [
        "show the first three instances in the training set"
      ]
    },
    {
      "cell_type": "code",
      "metadata": {
        "id": "_jYwW58uedqj",
        "colab_type": "code",
        "colab": {}
      },
      "source": [
        "flower_paths_and_classes_train[:3]"
      ],
      "execution_count": 0,
      "outputs": []
    },
    {
      "cell_type": "markdown",
      "metadata": {
        "id": "5A_PN4YXSUhZ",
        "colab_type": "text"
      },
      "source": [
        "function to preprocess a set of images"
      ]
    },
    {
      "cell_type": "code",
      "metadata": {
        "id": "lonFjyy2effQ",
        "colab_type": "code",
        "colab": {}
      },
      "source": [
        "from random import sample\n",
        "\n",
        "def prepare_batch(flower_paths_and_classes, batch_size):\n",
        "    batch_paths_and_classes = sample(flower_paths_and_classes, batch_size)\n",
        "    images = [mpimg.imread(path)[:, :, :channels] for path, labels in batch_paths_and_classes]\n",
        "    prepared_images = [prepare_image(image) for image in images]\n",
        "    X_batch = 2 * np.stack(prepared_images) - 1 # Inception expects colors ranging from -1 to 1\n",
        "    y_batch = np.array([labels for path, labels in batch_paths_and_classes], dtype=np.int32)\n",
        "    return X_batch, y_batch"
      ],
      "execution_count": 0,
      "outputs": []
    },
    {
      "cell_type": "code",
      "metadata": {
        "id": "xUbA-NbEeiDt",
        "colab_type": "code",
        "colab": {}
      },
      "source": [
        "X_batch, y_batch = prepare_batch(flower_paths_and_classes_train, batch_size=4)"
      ],
      "execution_count": 0,
      "outputs": []
    },
    {
      "cell_type": "code",
      "metadata": {
        "id": "r6-O9Hv5eiht",
        "colab_type": "code",
        "colab": {}
      },
      "source": [
        "X_batch.shape"
      ],
      "execution_count": 0,
      "outputs": []
    },
    {
      "cell_type": "code",
      "metadata": {
        "id": "7RldT538eljf",
        "colab_type": "code",
        "colab": {}
      },
      "source": [
        "X_batch.dtype"
      ],
      "execution_count": 0,
      "outputs": []
    },
    {
      "cell_type": "code",
      "metadata": {
        "id": "w5HZp30senTB",
        "colab_type": "code",
        "colab": {}
      },
      "source": [
        "y_batch.shape"
      ],
      "execution_count": 0,
      "outputs": []
    },
    {
      "cell_type": "code",
      "metadata": {
        "id": "7D5hWU_-epAC",
        "colab_type": "code",
        "colab": {}
      },
      "source": [
        "y_batch.dtype"
      ],
      "execution_count": 0,
      "outputs": []
    },
    {
      "cell_type": "markdown",
      "metadata": {
        "id": "ws_Bkrx1Sjen",
        "colab_type": "text"
      },
      "source": [
        "prepare test set"
      ]
    },
    {
      "cell_type": "code",
      "metadata": {
        "id": "_TrCZrXueqyQ",
        "colab_type": "code",
        "colab": {}
      },
      "source": [
        "X_test, y_test = prepare_batch(flower_paths_and_classes_test, batch_size=len(flower_paths_and_classes_test))"
      ],
      "execution_count": 0,
      "outputs": []
    },
    {
      "cell_type": "code",
      "metadata": {
        "id": "CsS2USywet68",
        "colab_type": "code",
        "colab": {}
      },
      "source": [
        "X_test.shape"
      ],
      "execution_count": 0,
      "outputs": []
    },
    {
      "cell_type": "markdown",
      "metadata": {
        "id": "5d1BTt6yTNeh",
        "colab_type": "text"
      },
      "source": [
        "train the output layer that was added"
      ]
    },
    {
      "cell_type": "code",
      "metadata": {
        "id": "NHaP5tE1ey2w",
        "colab_type": "code",
        "colab": {}
      },
      "source": [
        "n_epochs = 10\n",
        "batch_size = 40\n",
        "n_iterations_per_epoch = len(flower_paths_and_classes_train) // batch_size\n",
        "\n",
        "with tf.Session() as sess:\n",
        "    init.run()\n",
        "    inception_saver.restore(sess, INCEPTION_V3_CHECKPOINT_PATH)\n",
        "\n",
        "    for epoch in range(n_epochs):\n",
        "        print(\"Epoch\", epoch, end=\"\")\n",
        "        for iteration in range(n_iterations_per_epoch):\n",
        "            print(\".\", end=\"\")\n",
        "            X_batch, y_batch = prepare_batch(flower_paths_and_classes_train, batch_size)\n",
        "            sess.run(training_op, feed_dict={X: X_batch, y: y_batch, training: True})\n",
        "\n",
        "        acc_batch = accuracy.eval(feed_dict={X: X_batch, y: y_batch})\n",
        "        print(\"  Last batch accuracy:\", acc_batch)\n",
        "\n",
        "        save_path = saver.save(sess, \"./my_flowers_model\")"
      ],
      "execution_count": 0,
      "outputs": []
    },
    {
      "cell_type": "code",
      "metadata": {
        "id": "5yfBLZ61e37e",
        "colab_type": "code",
        "colab": {}
      },
      "source": [
        "n_test_batches = 10\n",
        "X_test_batches = np.array_split(X_test, n_test_batches)\n",
        "y_test_batches = np.array_split(y_test, n_test_batches)\n",
        "\n",
        "with tf.Session() as sess:\n",
        "    saver.restore(sess, \"./my_flowers_model\")\n",
        "\n",
        "    print(\"Computing final accuracy on the test set (this will take a while)...\")\n",
        "    acc_test = np.mean([\n",
        "        accuracy.eval(feed_dict={X: X_test_batch, y: y_test_batch})\n",
        "        for X_test_batch, y_test_batch in zip(X_test_batches, y_test_batches)])\n",
        "    print(\"Test accuracy:\", acc_test)"
      ],
      "execution_count": 0,
      "outputs": []
    },
    {
      "cell_type": "markdown",
      "metadata": {
        "id": "gCH6T187Yb2t",
        "colab_type": "text"
      },
      "source": [
        "# 10. Go through TensorFlow's DeepDream tutorial"
      ]
    },
    {
      "cell_type": "code",
      "metadata": {
        "id": "pyUs2p9lYfsA",
        "colab_type": "code",
        "colab": {}
      },
      "source": [
        "# boilerplate code\n",
        "import os\n",
        "from io import BytesIO\n",
        "import numpy as np\n",
        "from functools import partial\n",
        "import PIL.Image\n",
        "from IPython.display import clear_output, Image, display, HTML\n",
        "from __future__ import print_function\n",
        "\n",
        "import tensorflow as tf"
      ],
      "execution_count": 0,
      "outputs": []
    },
    {
      "cell_type": "code",
      "metadata": {
        "id": "LbVUbZa5b03J",
        "colab_type": "code",
        "colab": {}
      },
      "source": [
        "#!wget https://storage.googleapis.com/download.tensorflow.org/models/inception5h.zip && unzip inception5h.zip"
      ],
      "execution_count": 0,
      "outputs": []
    },
    {
      "cell_type": "code",
      "metadata": {
        "id": "ZWRRttEjb_20",
        "colab_type": "code",
        "colab": {}
      },
      "source": [
        "model_fn = 'tensorflow_inception_graph.pb'\n",
        "\n",
        "# creating TensorFlow session and loading the model\n",
        "graph = tf.Graph()\n",
        "sess = tf.InteractiveSession(graph=graph)\n",
        "with tf.gfile.FastGFile(model_fn, 'rb') as f:\n",
        "    graph_def = tf.GraphDef()\n",
        "    graph_def.ParseFromString(f.read())\n",
        "t_input = tf.placeholder(np.float32, name='input') # define the input tensor\n",
        "imagenet_mean = 117.0\n",
        "t_preprocessed = tf.expand_dims(t_input-imagenet_mean, 0)\n",
        "tf.import_graph_def(graph_def, {'input':t_preprocessed})"
      ],
      "execution_count": 0,
      "outputs": []
    },
    {
      "cell_type": "markdown",
      "metadata": {
        "id": "m8Q_BLEYcNZe",
        "colab_type": "text"
      },
      "source": [
        "To take a glimpse into the kinds of patterns that the network learned to recognize, we will try to generate images that maximize the sum of activations of particular channel of a particular convolutional layer of the neural network. The network we explore contains many convolutional layers, each of which outputs tens to hundreds of feature channels, so we have plenty of patterns to explore."
      ]
    },
    {
      "cell_type": "code",
      "metadata": {
        "id": "9x1NMiYTcQdi",
        "colab_type": "code",
        "colab": {}
      },
      "source": [
        "layers = [op.name for op in graph.get_operations() if op.type=='Conv2D' and 'import/' in op.name]\n",
        "feature_nums = [int(graph.get_tensor_by_name(name+':0').get_shape()[-1]) for name in layers]\n",
        "\n",
        "print('Number of layers', len(layers))\n",
        "print('Total number of feature channels:', sum(feature_nums))\n",
        "\n",
        "\n",
        "# Helper functions for TF Graph visualization\n",
        "\n",
        "def strip_consts(graph_def, max_const_size=32):\n",
        "    \"\"\"Strip large constant values from graph_def.\"\"\"\n",
        "    strip_def = tf.GraphDef()\n",
        "    for n0 in graph_def.node:\n",
        "        n = strip_def.node.add() \n",
        "        n.MergeFrom(n0)\n",
        "        if n.op == 'Const':\n",
        "            tensor = n.attr['value'].tensor\n",
        "            size = len(tensor.tensor_content)\n",
        "            if size > max_const_size:\n",
        "                tensor.tensor_content = \"<stripped %d bytes>\"%size\n",
        "    return strip_def\n",
        "  \n",
        "def rename_nodes(graph_def, rename_func):\n",
        "    res_def = tf.GraphDef()\n",
        "    for n0 in graph_def.node:\n",
        "        n = res_def.node.add() \n",
        "        n.MergeFrom(n0)\n",
        "        n.name = rename_func(n.name)\n",
        "        for i, s in enumerate(n.input):\n",
        "            n.input[i] = rename_func(s) if s[0]!='^' else '^'+rename_func(s[1:])\n",
        "    return res_def\n",
        "  \n",
        "def show_graph(graph_def, max_const_size=32):\n",
        "    \"\"\"Visualize TensorFlow graph.\"\"\"\n",
        "    if hasattr(graph_def, 'as_graph_def'):\n",
        "        graph_def = graph_def.as_graph_def()\n",
        "    strip_def = strip_consts(graph_def, max_const_size=max_const_size)\n",
        "    code = \"\"\"\n",
        "        <script>\n",
        "          function load() {{\n",
        "            document.getElementById(\"{id}\").pbtxt = {data};\n",
        "          }}\n",
        "        </script>\n",
        "        <link rel=\"import\" href=\"https://tensorboard.appspot.com/tf-graph-basic.build.html\" onload=load()>\n",
        "        <div style=\"height:600px\">\n",
        "          <tf-graph-basic id=\"{id}\"></tf-graph-basic>\n",
        "        </div>\n",
        "    \"\"\".format(data=repr(str(strip_def)), id='graph'+str(np.random.rand()))\n",
        "  \n",
        "    iframe = \"\"\"\n",
        "        <iframe seamless style=\"width:800px;height:620px;border:0\" srcdoc=\"{}\"></iframe>\n",
        "    \"\"\".format(code.replace('\"', '&quot;'))\n",
        "    display(HTML(iframe))\n",
        "\n",
        "# Visualizing the network graph. Be sure expand the \"mixed\" nodes to see their \n",
        "# internal structure. We are going to visualize \"Conv2D\" nodes.\n",
        "tmp_def = rename_nodes(graph_def, lambda s:\"/\".join(s.split('_',1)))\n",
        "# show_graph(tmp_def)"
      ],
      "execution_count": 0,
      "outputs": []
    },
    {
      "cell_type": "markdown",
      "metadata": {
        "id": "qiaoHyyscTXD",
        "colab_type": "text"
      },
      "source": [
        "## Naive feature visualization\n",
        "Let's start with a naive way of visualizing these. Image-space gradient ascent!"
      ]
    },
    {
      "cell_type": "code",
      "metadata": {
        "id": "IBqKWv4LcUuv",
        "colab_type": "code",
        "colab": {}
      },
      "source": [
        "# Picking some internal layer. Note that we use outputs before applying the ReLU nonlinearity\n",
        "# to have non-zero gradients for features with negative initial activations.\n",
        "layer = 'mixed4d_3x3_bottleneck_pre_relu'\n",
        "channel = 139 # picking some feature channel to visualize\n",
        "\n",
        "# start with a gray image with a little noise\n",
        "img_noise = np.random.uniform(size=(224,224,3)) + 100.0\n",
        "\n",
        "def showarray(a, fmt='jpeg'):\n",
        "    a = np.uint8(np.clip(a, 0, 1)*255)\n",
        "    f = BytesIO()\n",
        "    PIL.Image.fromarray(a).save(f, fmt)\n",
        "    display(Image(data=f.getvalue()))\n",
        "    \n",
        "def visstd(a, s=0.1):\n",
        "    '''Normalize the image range for visualization'''\n",
        "    return (a-a.mean())/max(a.std(), 1e-4)*s + 0.5\n",
        "\n",
        "def T(layer):\n",
        "    '''Helper for getting layer output tensor'''\n",
        "    return graph.get_tensor_by_name(\"import/%s:0\"%layer)\n",
        "\n",
        "def render_naive(t_obj, img0=img_noise, iter_n=20, step=1.0):\n",
        "    t_score = tf.reduce_mean(t_obj) # defining the optimization objective\n",
        "    t_grad = tf.gradients(t_score, t_input)[0] # behold the power of automatic differentiation!\n",
        "    \n",
        "    img = img0.copy()\n",
        "    for i in range(iter_n):\n",
        "        g, score = sess.run([t_grad, t_score], {t_input:img})\n",
        "        # normalizing the gradient, so the same step size should work \n",
        "        g /= g.std()+1e-8         # for different layers and networks\n",
        "        img += g*step\n",
        "        print(score, end = ' ')\n",
        "    clear_output()\n",
        "    showarray(visstd(img))\n",
        "\n",
        "render_naive(T(layer)[:,:,:,channel])"
      ],
      "execution_count": 0,
      "outputs": []
    },
    {
      "cell_type": "markdown",
      "metadata": {
        "id": "2C791pm_cYPZ",
        "colab_type": "text"
      },
      "source": [
        "## Multiscale image generation\n",
        "Looks like the network wants to show us something interesting! Let's help it. We are going to apply gradient ascent on multiple scales. Details formed on smaller scale will be upscaled and augmented with additional details on the next scale.\n",
        "\n",
        "With multiscale image generation it may be tempting to set the number of octaves to some high value to produce wallpaper-sized images. Storing network activations and backprop values will quickly run out of GPU memory in this case. There is a simple trick to avoid this: split the image into smaller tiles and compute each tile gradient independently. Applying random shifts to the image before every iteration helps avoid tile seams and improves the overall image quality."
      ]
    },
    {
      "cell_type": "code",
      "metadata": {
        "id": "k39K8aLbccGi",
        "colab_type": "code",
        "colab": {}
      },
      "source": [
        "def tffunc(*argtypes):\n",
        "    '''Helper that transforms TF-graph generating function into a regular one.\n",
        "    See \"resize\" function below.\n",
        "    '''\n",
        "    placeholders = list(map(tf.placeholder, argtypes))\n",
        "    def wrap(f):\n",
        "        out = f(*placeholders)\n",
        "        def wrapper(*args, **kw):\n",
        "            return out.eval(dict(zip(placeholders, args)), session=kw.get('session'))\n",
        "        return wrapper\n",
        "    return wrap\n",
        "\n",
        "# Helper function that uses TF to resize an image\n",
        "def resize(img, size):\n",
        "    img = tf.expand_dims(img, 0)\n",
        "    return tf.image.resize_bilinear(img, size)[0,:,:,:]\n",
        "resize = tffunc(np.float32, np.int32)(resize)\n",
        "\n",
        "\n",
        "def calc_grad_tiled(img, t_grad, tile_size=512):\n",
        "    '''Compute the value of tensor t_grad over the image in a tiled way.\n",
        "    Random shifts are applied to the image to blur tile boundaries over \n",
        "    multiple iterations.'''\n",
        "    sz = tile_size\n",
        "    h, w = img.shape[:2]\n",
        "    sx, sy = np.random.randint(sz, size=2)\n",
        "    img_shift = np.roll(np.roll(img, sx, 1), sy, 0)\n",
        "    grad = np.zeros_like(img)\n",
        "    for y in range(0, max(h-sz//2, sz),sz):\n",
        "        for x in range(0, max(w-sz//2, sz),sz):\n",
        "            sub = img_shift[y:y+sz,x:x+sz]\n",
        "            g = sess.run(t_grad, {t_input:sub})\n",
        "            grad[y:y+sz,x:x+sz] = g\n",
        "    return np.roll(np.roll(grad, -sx, 1), -sy, 0)"
      ],
      "execution_count": 0,
      "outputs": []
    },
    {
      "cell_type": "code",
      "metadata": {
        "id": "yiAmY1PfcgJC",
        "colab_type": "code",
        "colab": {}
      },
      "source": [
        "def render_multiscale(t_obj, img0=img_noise, iter_n=10, step=1.0, octave_n=3, octave_scale=1.4):\n",
        "    t_score = tf.reduce_mean(t_obj) # defining the optimization objective\n",
        "    t_grad = tf.gradients(t_score, t_input)[0] # behold the power of automatic differentiation!\n",
        "    \n",
        "    img = img0.copy()\n",
        "    for octave in range(octave_n):\n",
        "        if octave>0:\n",
        "            hw = np.float32(img.shape[:2])*octave_scale\n",
        "            img = resize(img, np.int32(hw))\n",
        "        for i in range(iter_n):\n",
        "            g = calc_grad_tiled(img, t_grad)\n",
        "            # normalizing the gradient, so the same step size should work \n",
        "            g /= g.std()+1e-8         # for different layers and networks\n",
        "            img += g*step\n",
        "            print('.', end = ' ')\n",
        "        clear_output()\n",
        "        showarray(visstd(img))\n",
        "\n",
        "render_multiscale(T(layer)[:,:,:,channel])"
      ],
      "execution_count": 0,
      "outputs": []
    },
    {
      "cell_type": "markdown",
      "metadata": {
        "id": "_-J93BEZcnRe",
        "colab_type": "text"
      },
      "source": [
        "## Laplacian Pyramid Gradient Normalization\n",
        "This looks better, but the resulting images mostly contain high frequencies. Can we improve it? One way is to add a smoothness prior into the optimization objective. This will effectively blur the image a little every iteration, suppressing the higher frequencies, so that the lower frequencies can catch up. This will require more iterations to produce a nice image. Why don't we just boost lower frequencies of the gradient instead? One way to achieve this is through the Laplacian pyramid decomposition. We call the resulting technique Laplacian Pyramid Gradient Normailzation."
      ]
    },
    {
      "cell_type": "code",
      "metadata": {
        "id": "0lsIDN7fcpUl",
        "colab_type": "code",
        "colab": {}
      },
      "source": [
        "k = np.float32([1,4,6,4,1])\n",
        "k = np.outer(k, k)\n",
        "k5x5 = k[:,:,None,None]/k.sum()*np.eye(3, dtype=np.float32)\n",
        "\n",
        "def lap_split(img):\n",
        "    '''Split the image into lo and hi frequency components'''\n",
        "    with tf.name_scope('split'):\n",
        "        lo = tf.nn.conv2d(img, k5x5, [1,2,2,1], 'SAME')\n",
        "        lo2 = tf.nn.conv2d_transpose(lo, k5x5*4, tf.shape(img), [1,2,2,1])\n",
        "        hi = img-lo2\n",
        "    return lo, hi\n",
        "\n",
        "def lap_split_n(img, n):\n",
        "    '''Build Laplacian pyramid with n splits'''\n",
        "    levels = []\n",
        "    for i in range(n):\n",
        "        img, hi = lap_split(img)\n",
        "        levels.append(hi)\n",
        "    levels.append(img)\n",
        "    return levels[::-1]\n",
        "\n",
        "def lap_merge(levels):\n",
        "    '''Merge Laplacian pyramid'''\n",
        "    img = levels[0]\n",
        "    for hi in levels[1:]:\n",
        "        with tf.name_scope('merge'):\n",
        "            img = tf.nn.conv2d_transpose(img, k5x5*4, tf.shape(hi), [1,2,2,1]) + hi\n",
        "    return img\n",
        "\n",
        "def normalize_std(img, eps=1e-10):\n",
        "    '''Normalize image by making its standard deviation = 1.0'''\n",
        "    with tf.name_scope('normalize'):\n",
        "        std = tf.sqrt(tf.reduce_mean(tf.square(img)))\n",
        "        return img/tf.maximum(std, eps)\n",
        "\n",
        "def lap_normalize(img, scale_n=4):\n",
        "    '''Perform the Laplacian pyramid normalization.'''\n",
        "    img = tf.expand_dims(img,0)\n",
        "    tlevels = lap_split_n(img, scale_n)\n",
        "    tlevels = list(map(normalize_std, tlevels))\n",
        "    out = lap_merge(tlevels)\n",
        "    return out[0,:,:,:]\n",
        "\n",
        "# Showing the lap_normalize graph with TensorBoard\n",
        "lap_graph = tf.Graph()\n",
        "with lap_graph.as_default():\n",
        "    lap_in = tf.placeholder(np.float32, name='lap_in')\n",
        "    lap_out = lap_normalize(lap_in)\n",
        "# show_graph(lap_graph)"
      ],
      "execution_count": 0,
      "outputs": []
    },
    {
      "cell_type": "code",
      "metadata": {
        "id": "duOOXmyQcrXI",
        "colab_type": "code",
        "colab": {}
      },
      "source": [
        "def render_lapnorm(t_obj, img0=img_noise, visfunc=visstd,\n",
        "                   iter_n=10, step=1.0, octave_n=3, octave_scale=1.4, lap_n=4):\n",
        "    t_score = tf.reduce_mean(t_obj) # defining the optimization objective\n",
        "    t_grad = tf.gradients(t_score, t_input)[0] # behold the power of automatic differentiation!\n",
        "    # build the laplacian normalization graph\n",
        "    lap_norm_func = tffunc(np.float32)(partial(lap_normalize, scale_n=lap_n))\n",
        "\n",
        "    img = img0.copy()\n",
        "    for octave in range(octave_n):\n",
        "        if octave>0:\n",
        "            hw = np.float32(img.shape[:2])*octave_scale\n",
        "            img = resize(img, np.int32(hw))\n",
        "        for i in range(iter_n):\n",
        "            g = calc_grad_tiled(img, t_grad)\n",
        "            g = lap_norm_func(g)\n",
        "            img += g*step\n",
        "            print('.', end = ' ')\n",
        "        clear_output()\n",
        "        showarray(visfunc(img))\n",
        "\n",
        "render_lapnorm(T(layer)[:,:,:,channel])"
      ],
      "execution_count": 0,
      "outputs": []
    },
    {
      "cell_type": "markdown",
      "metadata": {
        "id": "6FaY5iv4cuFz",
        "colab_type": "text"
      },
      "source": [
        "## Playing with feature visualizations\n",
        "We got a nice smooth image using only 10 iterations per octave. In case of running on GPU this takes just a few seconds. Let's try to visualize another channel from the same layer. The network can generate wide diversity of patterns."
      ]
    },
    {
      "cell_type": "code",
      "metadata": {
        "id": "qlnUOpNpcxQb",
        "colab_type": "code",
        "colab": {}
      },
      "source": [
        "render_lapnorm(T(layer)[:,:,:,135])"
      ],
      "execution_count": 0,
      "outputs": []
    },
    {
      "cell_type": "code",
      "metadata": {
        "id": "w6SlbjNKc2Km",
        "colab_type": "code",
        "colab": {}
      },
      "source": [
        "render_lapnorm(T('mixed3b_1x1_pre_relu')[:,:,:,115])"
      ],
      "execution_count": 0,
      "outputs": []
    },
    {
      "cell_type": "code",
      "metadata": {
        "id": "na7YzZHmc4DF",
        "colab_type": "code",
        "colab": {}
      },
      "source": [
        "render_lapnorm(T(layer)[:,:,:,65]+T(layer)[:,:,:,139], octave_n=4)"
      ],
      "execution_count": 0,
      "outputs": []
    },
    {
      "cell_type": "markdown",
      "metadata": {
        "id": "XDYHQAxkc6cL",
        "colab_type": "text"
      },
      "source": [
        "## DeepDream\n",
        "Now let's reproduce the DeepDream algorithm with TensorFlow."
      ]
    },
    {
      "cell_type": "code",
      "metadata": {
        "id": "11Fvyyn-c9Ec",
        "colab_type": "code",
        "colab": {}
      },
      "source": [
        "def render_deepdream(t_obj, img0=img_noise,\n",
        "                     iter_n=10, step=1.5, octave_n=4, octave_scale=1.4):\n",
        "    t_score = tf.reduce_mean(t_obj) # defining the optimization objective\n",
        "    t_grad = tf.gradients(t_score, t_input)[0] # behold the power of automatic differentiation!\n",
        "\n",
        "    # split the image into a number of octaves\n",
        "    img = img0\n",
        "    octaves = []\n",
        "    for i in range(octave_n-1):\n",
        "        hw = img.shape[:2]\n",
        "        lo = resize(img, np.int32(np.float32(hw)/octave_scale))\n",
        "        hi = img-resize(lo, hw)\n",
        "        img = lo\n",
        "        octaves.append(hi)\n",
        "    \n",
        "    # generate details octave by octave\n",
        "    for octave in range(octave_n):\n",
        "        if octave>0:\n",
        "            hi = octaves[-octave]\n",
        "            img = resize(img, hi.shape[:2])+hi\n",
        "        for i in range(iter_n):\n",
        "            g = calc_grad_tiled(img, t_grad)\n",
        "            img += g*(step / (np.abs(g).mean()+1e-7))\n",
        "            print('.',end = ' ')\n",
        "        clear_output()\n",
        "        showarray(img/255.0)"
      ],
      "execution_count": 0,
      "outputs": []
    },
    {
      "cell_type": "markdown",
      "metadata": {
        "id": "HEmbNYVPdFY-",
        "colab_type": "text"
      },
      "source": [
        "Let's load some image and populate it with DogSlugs (in case you've missed them)."
      ]
    },
    {
      "cell_type": "code",
      "metadata": {
        "id": "iiX0G3b8dG6u",
        "colab_type": "code",
        "colab": {}
      },
      "source": [
        "img0 = PIL.Image.open('pangolin.jpg')\n",
        "img0 = np.float32(img0)\n",
        "showarray(img0/255.0)"
      ],
      "execution_count": 0,
      "outputs": []
    },
    {
      "cell_type": "code",
      "metadata": {
        "id": "aEd1t5zKdIZh",
        "colab_type": "code",
        "colab": {}
      },
      "source": [
        "render_deepdream(tf.square(T('mixed4c')), img0)"
      ],
      "execution_count": 0,
      "outputs": []
    },
    {
      "cell_type": "markdown",
      "metadata": {
        "id": "J2J07mIOdMLy",
        "colab_type": "text"
      },
      "source": [
        "Using an arbitrary optimization objective still works:"
      ]
    },
    {
      "cell_type": "code",
      "metadata": {
        "id": "uDzGa8ZedNfb",
        "colab_type": "code",
        "colab": {}
      },
      "source": [
        "render_deepdream(T(layer)[:,:,:,139], img0)"
      ],
      "execution_count": 0,
      "outputs": []
    },
    {
      "cell_type": "code",
      "metadata": {
        "id": "NQdSQTzfBepE",
        "colab_type": "code",
        "colab": {}
      },
      "source": [
        "render_deepdream(T(layer)[:,:,:,143], img0)"
      ],
      "execution_count": 0,
      "outputs": []
    }
  ]
}